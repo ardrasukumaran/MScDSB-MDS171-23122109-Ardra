{
 "cells": [
  {
   "cell_type": "code",
   "execution_count": 3,
   "metadata": {},
   "outputs": [
    {
     "ename": "IndexError",
     "evalue": "string index out of range",
     "output_type": "error",
     "traceback": [
      "\u001b[1;31m---------------------------------------------------------------------------\u001b[0m",
      "\u001b[1;31mIndexError\u001b[0m                                Traceback (most recent call last)",
      "Cell \u001b[1;32mIn[3], line 28\u001b[0m\n\u001b[0;32m     26\u001b[0m             \u001b[39mstr\u001b[39m\u001b[39m=\u001b[39m \u001b[39mstr\u001b[39m \u001b[39m+\u001b[39m\u001b[39m\"\u001b[39m\u001b[39mNine\u001b[39m\u001b[39m\"\u001b[39m\n\u001b[0;32m     27\u001b[0m     \u001b[39mreturn\u001b[39;00m \u001b[39mstr\u001b[39m\n\u001b[1;32m---> 28\u001b[0m readVal(val,n)\n",
      "Cell \u001b[1;32mIn[3], line 7\u001b[0m, in \u001b[0;36mreadVal\u001b[1;34m(val, n)\u001b[0m\n\u001b[0;32m      5\u001b[0m \u001b[39mstr\u001b[39m \u001b[39m=\u001b[39m val\n\u001b[0;32m      6\u001b[0m \u001b[39mfor\u001b[39;00m i \u001b[39min\u001b[39;00m \u001b[39mrange\u001b[39m(\u001b[39m0\u001b[39m,n):\n\u001b[1;32m----> 7\u001b[0m     \u001b[39mif\u001b[39;00m val[i] \u001b[39m==\u001b[39m\u001b[39m'\u001b[39m\u001b[39m0\u001b[39m\u001b[39m'\u001b[39m:\n\u001b[0;32m      8\u001b[0m         \u001b[39mstr\u001b[39m\u001b[39m=\u001b[39m \u001b[39mstr\u001b[39m \u001b[39m+\u001b[39m\u001b[39m\"\u001b[39m\u001b[39mZero\u001b[39m\u001b[39m\"\u001b[39m\n\u001b[0;32m      9\u001b[0m     \u001b[39melif\u001b[39;00m val[i] \u001b[39m==\u001b[39m\u001b[39m'\u001b[39m\u001b[39m1\u001b[39m\u001b[39m'\u001b[39m:\n",
      "\u001b[1;31mIndexError\u001b[0m: string index out of range"
     ]
    }
   ],
   "source": [
    "n = int(input(\"Number of places\"))\n",
    "val = str(input(\"Enter the Value\"))\n",
    "\n",
    "def readVal(val,n):\n",
    "    str = val\n",
    "    for i in range(0,n):\n",
    "        if val[i] =='0':\n",
    "            str= str +\"Zero\"\n",
    "        elif val[i] =='1':\n",
    "            str= str +\"One\"\n",
    "        elif val[i] =='2':\n",
    "            str= str +\"Two\"\n",
    "        elif val[i] =='3':\n",
    "            str= str +\"Three\"\n",
    "        elif val[i] =='4':\n",
    "            str= str +\"Four\"\n",
    "        elif val[i] =='5':\n",
    "            str= str +\"Five\"\n",
    "        elif val[i] =='6':\n",
    "            str= str +\"Six\"\n",
    "        elif val[i] =='7':\n",
    "            str= str +\"Seven\"\n",
    "        elif val[i] =='8':\n",
    "            str= str +\"Eight\"\n",
    "        else:\n",
    "            str= str +\"Nine\"\n",
    "    return str\n",
    "readVal(val,n)"
   ]
  },
  {
   "cell_type": "code",
   "execution_count": null,
   "metadata": {},
   "outputs": [],
   "source": []
  }
 ],
 "metadata": {
  "kernelspec": {
   "display_name": "Python 3",
   "language": "python",
   "name": "python3"
  },
  "language_info": {
   "codemirror_mode": {
    "name": "ipython",
    "version": 3
   },
   "file_extension": ".py",
   "mimetype": "text/x-python",
   "name": "python",
   "nbconvert_exporter": "python",
   "pygments_lexer": "ipython3",
   "version": "3.10.0"
  },
  "orig_nbformat": 4
 },
 "nbformat": 4,
 "nbformat_minor": 2
}
