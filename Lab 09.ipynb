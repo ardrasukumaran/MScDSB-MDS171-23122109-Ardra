{
 "cells": [
  {
   "cell_type": "markdown",
   "metadata": {},
   "source": [
    "We are using a class resturant. In that we can use funtions like:\n",
    "1. customers ->orders (Menu items)\n",
    "2. collecting orders\n",
    "3. billing\n",
    "4. print bill\n",
    "5. update order\n",
    "6. search for the order"
   ]
  },
  {
   "cell_type": "code",
   "execution_count": 2,
   "metadata": {},
   "outputs": [],
   "source": [
    "import random\n",
    "\n",
    "class resturant:\n",
    "    def __init__(self):\n",
    "        self.menu = {\n",
    "            \"rice\":30,\n",
    "            \"idli\":10,\n",
    "            \"vada\":8,\n",
    "            \"tea\":10,\n",
    "            \"upma\":25\n",
    "        }\n",
    "\n",
    "        #orderid: {set of order details}\n",
    "        self.orders = {}\n",
    "    \n",
    "    def printMenu(self):\n",
    "        print(\"--\"*30)\n",
    "        print(\"The current options in the menu are:\")\n",
    "        print(\"--\"*30)\n",
    "        print(self.menu)\n",
    "        print(\"--\"*30)\n",
    "\n",
    "    def GenOrderID(self):\n",
    "        orderID = \"\"\n",
    "        for i in range(1,6,1): #to get a 5 digit random orderID\n",
    "            orderID = orderID+str(random.randint(i,10))#concatenating strings\n",
    "        return orderID\n",
    "    \n",
    "    def collectOrder(self):\n",
    "        phone = input(\"Enter the ph No of customer:\")\n",
    "        order = {}\n",
    "        while True: #to order multiple orders\n",
    "            item = input(\"Enter the items you want to order:\")\n",
    "            qnty = int(input(\"Enter the quantity of the item:\")) #ask user to enter the value\n",
    "            order[item] = qnty\n",
    "        \n",
    "            choice = input(\"Do you want to complete order?\")\n",
    "            if choice == \"Y\":\n",
    "                break\n",
    "        orderID = self.GenOrderID()\n",
    "        self.orders[orderID] = {\n",
    "            \"phone\" : phone,\n",
    "            \"order\" : order\n",
    "        }\n",
    "        #print the order\n",
    "        print(self.orders)\n",
    "    \n",
    "    def billing(self):\n",
    "        total = 0\n",
    "        totalEarn = 0\n",
    "        for orderid in self.orders:\n",
    "            #print(self.orders[orderid]['order'])\n",
    "            for key in self.orders[orderid]['order']:\n",
    "                print(key,self.orders[orderid]['order'][key],self.menu[key.lower()])\n",
    "                #print(self.orders[orderid]['order'][key]) #qty\n",
    "                #print(self.menu[key.lower()]) #unit price\n",
    "                price = int(self.orders[orderid]['order'][key]) * int(self.menu[key.lower()])\n",
    "                total = total+price\n",
    "                totalEarn = totalEarn+total\n",
    "                print(\"price =\",price)\n",
    "            print(\"total =\",total)\n",
    "        print(\"Earning of today is: \",totalEarn,\"Rupees\")\n",
    "        \n",
    "    \n"
   ]
  },
  {
   "cell_type": "code",
   "execution_count": 18,
   "metadata": {},
   "outputs": [
    {
     "name": "stdout",
     "output_type": "stream",
     "text": [
      "------------------------------------------------------------\n",
      "The current options in the menu are:\n",
      "------------------------------------------------------------\n",
      "{'rice': 30, 'idli': 10, 'vada': 8, 'tea': 10, 'upma': 25}\n",
      "------------------------------------------------------------\n",
      "{'99475': {'phone': '789578684', 'order': {'idli': 10, 'tea': 4}}}\n",
      "idli 10 10\n",
      "price = 100\n",
      "tea 4 10\n",
      "price = 40\n",
      "total = 140\n",
      "Earning of today is:  240 Rupees\n",
      "{'99475': {'phone': '789578684', 'order': {'idli': 10, 'tea': 4}}, '935106': {'phone': '9786865356', 'order': {'upma': 3, 'tea': 2}}}\n",
      "idli 10 10\n",
      "price = 100\n",
      "tea 4 10\n",
      "price = 40\n",
      "total = 140\n",
      "upma 3 25\n",
      "price = 75\n",
      "tea 2 10\n",
      "price = 20\n",
      "total = 235\n",
      "Earning of today is:  690 Rupees\n"
     ]
    }
   ],
   "source": [
    "cbtv = resturant()\n",
    "cbtv.printMenu()\n",
    "for item in range(1,3):\n",
    "    cbtv.collectOrder()\n",
    "    cbtv.billing()\n",
    "    "
   ]
  }
 ],
 "metadata": {
  "kernelspec": {
   "display_name": "Python 3",
   "language": "python",
   "name": "python3"
  },
  "language_info": {
   "codemirror_mode": {
    "name": "ipython",
    "version": 3
   },
   "file_extension": ".py",
   "mimetype": "text/x-python",
   "name": "python",
   "nbconvert_exporter": "python",
   "pygments_lexer": "ipython3",
   "version": "3.10.0"
  }
 },
 "nbformat": 4,
 "nbformat_minor": 2
}
