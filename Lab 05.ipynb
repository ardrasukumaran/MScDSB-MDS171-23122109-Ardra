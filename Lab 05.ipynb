{
 "cells": [
  {
   "cell_type": "code",
   "execution_count": 44,
   "metadata": {},
   "outputs": [
    {
     "name": "stdout",
     "output_type": "stream",
     "text": [
      "I 0\n",
      "O 0\n",
      "U 0\n",
      "A 13\n",
      "E 0\n",
      "Total 13\n",
      "percentage = 100.0\n"
     ]
    }
   ],
   "source": [
    "#Enter the user input\n",
    "user_inp=input(\"Enter a String\")\n",
    "user_inp = user_inp.strip().upper() #to strip the user input and change all letters into upper case\n",
    "vowels = {'A','E','I','O','U'} \n",
    "sum = 0\n",
    "for search in vowels:\n",
    "    count = 0\n",
    "    for item in user_inp:\n",
    "       if search == item:\n",
    "            count = count+1\n",
    "    print(search,count) #to get count of vowels individually\n",
    "    sum = sum + count\n",
    "\n",
    "print(\"Total\",sum)\n",
    "\n",
    "percentage = sum/len(user_inp) * 100 #formula for percentage\n",
    "print(\"percentage =\",percentage)\n",
    "\n",
    "\n",
    "\n",
    "\n",
    "\n"
   ]
  },
  {
   "cell_type": "code",
   "execution_count": 32,
   "metadata": {},
   "outputs": [
    {
     "ename": "AttributeError",
     "evalue": "'str' object has no attribute 'append'",
     "output_type": "error",
     "traceback": [
      "\u001b[1;31m---------------------------------------------------------------------------\u001b[0m",
      "\u001b[1;31mAttributeError\u001b[0m                            Traceback (most recent call last)",
      "Cell \u001b[1;32mIn[32], line 8\u001b[0m\n\u001b[0;32m      6\u001b[0m     letter \u001b[39m=\u001b[39m letter\u001b[39m.\u001b[39mstrip()\n\u001b[0;32m      7\u001b[0m     letter \u001b[39m=\u001b[39m letter\u001b[39m.\u001b[39mupper()\n\u001b[1;32m----> 8\u001b[0m     letter\u001b[39m.\u001b[39;49mappend(letter)\n\u001b[0;32m      9\u001b[0m \u001b[39mprint\u001b[39m(letter)\n\u001b[0;32m     11\u001b[0m vowels \u001b[39m=\u001b[39m {\u001b[39m'\u001b[39m\u001b[39mA\u001b[39m\u001b[39m'\u001b[39m,\u001b[39m'\u001b[39m\u001b[39mE\u001b[39m\u001b[39m'\u001b[39m,\u001b[39m'\u001b[39m\u001b[39mI\u001b[39m\u001b[39m'\u001b[39m,\u001b[39m'\u001b[39m\u001b[39mO\u001b[39m\u001b[39m'\u001b[39m,\u001b[39m'\u001b[39m\u001b[39mU\u001b[39m\u001b[39m'\u001b[39m}\n",
      "\u001b[1;31mAttributeError\u001b[0m: 'str' object has no attribute 'append'"
     ]
    }
   ],
   "source": [
    "\n",
    "\n",
    "\n",
    "\n",
    "       "
   ]
  }
 ],
 "metadata": {
  "kernelspec": {
   "display_name": "Python 3",
   "language": "python",
   "name": "python3"
  },
  "language_info": {
   "codemirror_mode": {
    "name": "ipython",
    "version": 3
   },
   "file_extension": ".py",
   "mimetype": "text/x-python",
   "name": "python",
   "nbconvert_exporter": "python",
   "pygments_lexer": "ipython3",
   "version": "3.10.0"
  },
  "orig_nbformat": 4
 },
 "nbformat": 4,
 "nbformat_minor": 2
}
