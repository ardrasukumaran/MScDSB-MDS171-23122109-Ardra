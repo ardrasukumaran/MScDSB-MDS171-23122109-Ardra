{
 "cells": [
  {
   "cell_type": "code",
   "execution_count": 1,
   "metadata": {},
   "outputs": [
    {
     "name": "stdout",
     "output_type": "stream",
     "text": [
      "A 1\n",
      "U 1\n",
      "I 1\n",
      "O 1\n",
      "E 0\n",
      "Total 4\n",
      "percentage = 36.36363636363637\n"
     ]
    }
   ],
   "source": [
    "#Enter the user input\n",
    "user_inp=input(\"Enter a String\")\n",
    "user_inp = user_inp.strip().upper() #to strip the user input and change all letters into upper case\n",
    "vowels = {'A','E','I','O','U'} \n",
    "sum = 0\n",
    "for search in vowels:\n",
    "    count = 0\n",
    "    for item in user_inp:\n",
    "       if search == item:\n",
    "            count = count+1\n",
    "    print(search,count) #to get count of vowels individually\n",
    "    sum = sum + count\n",
    "\n",
    "print(\"Total\",sum)\n",
    "\n",
    "percentage = sum/len(user_inp) * 100 #formula for percentage\n",
    "print(\"percentage =\",percentage)\n",
    "\n",
    "\n",
    "\n",
    "\n",
    "\n"
   ]
  }
 ],
 "metadata": {
  "kernelspec": {
   "display_name": "Python 3",
   "language": "python",
   "name": "python3"
  },
  "language_info": {
   "codemirror_mode": {
    "name": "ipython",
    "version": 3
   },
   "file_extension": ".py",
   "mimetype": "text/x-python",
   "name": "python",
   "nbconvert_exporter": "python",
   "pygments_lexer": "ipython3",
   "version": "3.10.0"
  },
  "orig_nbformat": 4
 },
 "nbformat": 4,
 "nbformat_minor": 2
}
