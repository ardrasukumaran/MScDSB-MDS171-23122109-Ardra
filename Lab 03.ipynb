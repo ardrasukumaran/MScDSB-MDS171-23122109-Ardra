{
 "cells": [
  {
   "cell_type": "code",
   "execution_count": 52,
   "metadata": {},
   "outputs": [
    {
     "name": "stdout",
     "output_type": "stream",
     "text": [
      "542.94\n",
      "17\n",
      "999\n",
      "982\n"
     ]
    }
   ],
   "source": [
    "List1 = [761, 123, 585, 275, 194, 840, 999, 622, 763, 40, 825, 687, 402, 338, 611, 987, 739, 95, 819, 568, 320, 126, 688, 948, 514, 223, 751, 379, 857, 767, 492, 162, 437, 934, 430, 343, 725, 511, 580, 678, 708, 823, 346, 179, 786, 663, 195, 890, 267, 502, 214, 300, 786, 961, 235, 559, 992, 919, 948, 318, 57, 787, 653, 317, 305, 172, 966, 182, 970, 17, 89, 624, 629, 595, 485, 752, 984, 978, 460, 124, 321, 256, 614, 852, 811, 561, 127, 207, 406, 615, 888, 391, 691, 470, 911, 401, 137, 600, 478, 682]\n",
    "\n",
    "#Mean\n",
    "\n",
    "def mean(Sum, Number):\n",
    "    Sum = 0\n",
    "    Number = 0\n",
    "    for i in List1:\n",
    "        Sum = Sum + i\n",
    "        Number = Number +1\n",
    "    mean = Sum/Number\n",
    "    return mean\n",
    "\n",
    "meanVal = mean(Sum, Number)\n",
    "print(meanVal)\n",
    "\n",
    "\n",
    "#Minimum\n",
    "def minVal(List1):\n",
    "    minVal = List1[1]\n",
    "    for i in List1:\n",
    "        if minVal<=i:\n",
    "            minVal = minVal\n",
    "        else:\n",
    "            minVal = i\n",
    "    return minVal\n",
    "\n",
    "a=minVal(List1)\n",
    "print(a)\n",
    "#Maximum\n",
    "\n",
    "def maxVal(List1):\n",
    "    maxVal = List1[1]\n",
    "    for i in List1:\n",
    "        if maxVal>=i:\n",
    "            maxVal = maxVal\n",
    "        else:\n",
    "            maxVal = i\n",
    "    return maxVal\n",
    "\n",
    "b=maxVal(List1)\n",
    "print(b)\n",
    "\n",
    "#Range\n",
    "Range = b-a\n",
    "print(Range)\n",
    "\n",
    "\n",
    "\n",
    "\n",
    "\n",
    "\n",
    "\n",
    "\n",
    "\n",
    "\n",
    "\n",
    "\n",
    "\n",
    "\n",
    "\n",
    "\n"
   ]
  },
  {
   "cell_type": "code",
   "execution_count": null,
   "metadata": {},
   "outputs": [],
   "source": []
  }
 ],
 "metadata": {
  "kernelspec": {
   "display_name": "Python 3",
   "language": "python",
   "name": "python3"
  },
  "language_info": {
   "codemirror_mode": {
    "name": "ipython",
    "version": 3
   },
   "file_extension": ".py",
   "mimetype": "text/x-python",
   "name": "python",
   "nbconvert_exporter": "python",
   "pygments_lexer": "ipython3",
   "version": "3.10.0"
  },
  "orig_nbformat": 4
 },
 "nbformat": 4,
 "nbformat_minor": 2
}
