{
 "cells": [
  {
   "cell_type": "code",
   "execution_count": 30,
   "metadata": {},
   "outputs": [],
   "source": [
    "import random\n",
    "\n",
    "Item = [\"Rice\",\"Wheet\",\"Tomato\",\"Potato\",\"Milk\",\"Egg\",\"Butter\",\"chilli\",\"salt\",\"sugar\"]\n",
    "Qnty = [1,4,30,6,5,12,7,28,9,10]\n",
    "Price = [40,20,10,30,50,60,20,70,80,90]\n",
    "\n",
    "def selectRandom():\n",
    "    r1 = random.randint(0,9)\n",
    "    r2 = random.randint(0,9)\n",
    "    r3 = random.randint(0,9)\n",
    "    return Item[r1]+\",\" +str(Qnty[r2])+\",\"  +str(Price[r3])+\",\" +\"\\n\"\n",
    "\n",
    "\n",
    "with open(\"grocery.csv\",\"w+\") as csvfile:\n",
    "    for i in range(0,100,1):\n",
    "        csvfile.write(selectRandom())\n"
   ]
  },
  {
   "cell_type": "code",
   "execution_count": 8,
   "metadata": {},
   "outputs": [
    {
     "name": "stdout",
     "output_type": "stream",
     "text": [
      "\n",
      "Grocery Items Selling details:\n",
      "----------------------------\n",
      "Item Name\t|\tTotal Quantity\t|\tPrice\n",
      "----------------------------\n"
     ]
    },
    {
     "ename": "TypeError",
     "evalue": "string indices must be integers",
     "output_type": "error",
     "traceback": [
      "\u001b[1;31m---------------------------------------------------------------------------\u001b[0m",
      "\u001b[1;31mTypeError\u001b[0m                                 Traceback (most recent call last)",
      "\u001b[1;32mc:\\Users\\Ardra.ks\\Desktop\\Programming with Python\\New folder\\MScDSB-MDS171-23122109-Ardra\\Lab 06.ipynb Cell 2\u001b[0m line \u001b[0;36m1\n\u001b[0;32m     <a href='vscode-notebook-cell:/c%3A/Users/Ardra.ks/Desktop/Programming%20with%20Python/New%20folder/MScDSB-MDS171-23122109-Ardra/Lab%2006.ipynb#W1sZmlsZQ%3D%3D?line=12'>13</a>\u001b[0m    amount \u001b[39m=\u001b[39m \u001b[39mint\u001b[39m(val[\u001b[39m1\u001b[39m])\u001b[39m*\u001b[39m\u001b[39mint\u001b[39m(val[\u001b[39m2\u001b[39m])\n\u001b[0;32m     <a href='vscode-notebook-cell:/c%3A/Users/Ardra.ks/Desktop/Programming%20with%20Python/New%20folder/MScDSB-MDS171-23122109-Ardra/Lab%2006.ipynb#W1sZmlsZQ%3D%3D?line=13'>14</a>\u001b[0m \u001b[39mif\u001b[39;00m i\u001b[39m<\u001b[39m\u001b[39m6\u001b[39m \u001b[39mor\u001b[39;00m i\u001b[39m>\u001b[39m\u001b[39m90\u001b[39m:\n\u001b[1;32m---> <a href='vscode-notebook-cell:/c%3A/Users/Ardra.ks/Desktop/Programming%20with%20Python/New%20folder/MScDSB-MDS171-23122109-Ardra/Lab%2006.ipynb#W1sZmlsZQ%3D%3D?line=15'>16</a>\u001b[0m    \u001b[39mprint\u001b[39m(\u001b[39mf\u001b[39m\u001b[39m\"\u001b[39m\u001b[39m{\u001b[39;00mline[i][\u001b[39m'\u001b[39;49m\u001b[39mItem\u001b[39;49m\u001b[39m'\u001b[39;49m]\u001b[39m}\u001b[39;00m\u001b[39m\\t\u001b[39;00m\u001b[39m|\u001b[39m\u001b[39m\\t\u001b[39;00m\u001b[39m{\u001b[39;00mamount\u001b[39m}\u001b[39;00m\u001b[39m\\n\u001b[39;00m\u001b[39m\"\u001b[39m)\n",
      "\u001b[1;31mTypeError\u001b[0m: string indices must be integers"
     ]
    }
   ],
   "source": [
    "#to read the csv file\n",
    "file = open(\"grocery.csv\",\"r+\")\n",
    "line = file.readlines() #to read it line by line\n",
    "\n",
    "print(\"\\nGrocery Items Selling details:\")\n",
    "print(\"----------------------------\")\n",
    "print(\"Item Name\\t|\\tTotal Quantity\\t|\\tPrice\")\n",
    "print(\"----------------------------\")\n",
    "\n",
    "for i in range (len(line)):\n",
    "   val = line[i].split(\",\")\n",
    "   for j in val:\n",
    "      amount = int(val[1])*int(val[2])\n",
    "   if i<6 or i>90:\n",
    "      \n",
    "\n",
    "\n"
   ]
  },
  {
   "cell_type": "code",
   "execution_count": null,
   "metadata": {},
   "outputs": [],
   "source": []
  },
  {
   "cell_type": "code",
   "execution_count": null,
   "metadata": {},
   "outputs": [],
   "source": [
    "\n",
    "\n"
   ]
  }
 ],
 "metadata": {
  "kernelspec": {
   "display_name": "Python 3",
   "language": "python",
   "name": "python3"
  },
  "language_info": {
   "codemirror_mode": {
    "name": "ipython",
    "version": 3
   },
   "file_extension": ".py",
   "mimetype": "text/x-python",
   "name": "python",
   "nbconvert_exporter": "python",
   "pygments_lexer": "ipython3",
   "version": "3.10.0"
  },
  "orig_nbformat": 4
 },
 "nbformat": 4,
 "nbformat_minor": 2
}
