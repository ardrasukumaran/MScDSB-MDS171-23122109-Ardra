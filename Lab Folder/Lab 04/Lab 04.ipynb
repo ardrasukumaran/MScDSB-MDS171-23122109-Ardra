{
 "cells": [
  {
   "cell_type": "markdown",
   "metadata": {},
   "source": [
    "From Farm to Table: The Grocery Store Management System\n",
    "\n",
    "In the heart of the vibrant town of Freshville was a quaint little grocery store named \"Farmers' Harvest.\" Owned by a passionate entrepreneur named Emily, Farmers' Harvest was renowned for its locally sourced produce, friendly atmosphere, and commitment to community sustainability.\n",
    "\n",
    "Emily had always dreamed of owning a grocery store that offered the community fresh, local, and organic produce. Her vision was to create a place where people could shop for quality groceries and connect with local farmers and artisans. She opened Farmers' Harvest with unwavering determination and a love for sustainable living.\n",
    "\n",
    "As Farmers' Harvest gained popularity, it faced a significant challenge – efficiently managing sales. Emily realized she needed a robust Grocery Store Management System (GSMS) to maintain the store's reputation for quality and freshness.\n",
    "\n",
    "Emily hired you as a team lead for a talented set of developers: Alex, Lisa, and Carlos. Together, you will create an advanced GSMS to revolutionise Farmers' Harvest.\n",
    "\n",
    "The software Emily is looking for is straightforward and has to store the orders in a file the store gets from its customers.\n",
    "\n",
    "As a data analyst specialist, gather insights from their customers' orders received for Farmers' Harvest in Freshville over time and display them to Emily as she uses your Application."
   ]
  },
  {
   "cell_type": "code",
   "execution_count": 3,
   "metadata": {},
   "outputs": [
    {
     "ename": "TypeError",
     "evalue": "details() missing 4 required positional arguments: 'Name', 'Item', 'Qnty', and 'Rate'",
     "output_type": "error",
     "traceback": [
      "\u001b[1;31m---------------------------------------------------------------------------\u001b[0m",
      "\u001b[1;31mTypeError\u001b[0m                                 Traceback (most recent call last)",
      "\u001b[1;32mc:\\Users\\Ardra.ks\\Desktop\\Programming with Python\\MScDSB-MDS171-23122109-Ardra\\Lab Folder\\Lab 04\\Lab 04.ipynb Cell 2\u001b[0m line \u001b[0;36m1\n\u001b[0;32m     <a href='vscode-notebook-cell:/c%3A/Users/Ardra.ks/Desktop/Programming%20with%20Python/MScDSB-MDS171-23122109-Ardra/Lab%20Folder/Lab%2004/Lab%2004.ipynb#W0sZmlsZQ%3D%3D?line=13'>14</a>\u001b[0m Qnty \u001b[39m=\u001b[39m \u001b[39minput\u001b[39m(\u001b[39m\"\u001b[39m\u001b[39mqnty:\u001b[39m\u001b[39m\"\u001b[39m)\n\u001b[0;32m     <a href='vscode-notebook-cell:/c%3A/Users/Ardra.ks/Desktop/Programming%20with%20Python/MScDSB-MDS171-23122109-Ardra/Lab%20Folder/Lab%2004/Lab%2004.ipynb#W0sZmlsZQ%3D%3D?line=14'>15</a>\u001b[0m Rate \u001b[39m=\u001b[39m \u001b[39minput\u001b[39m(\u001b[39m\"\u001b[39m\u001b[39mRate\u001b[39m\u001b[39m\"\u001b[39m)\n\u001b[1;32m---> <a href='vscode-notebook-cell:/c%3A/Users/Ardra.ks/Desktop/Programming%20with%20Python/MScDSB-MDS171-23122109-Ardra/Lab%20Folder/Lab%2004/Lab%2004.ipynb#W0sZmlsZQ%3D%3D?line=15'>16</a>\u001b[0m details()\n\u001b[0;32m     <a href='vscode-notebook-cell:/c%3A/Users/Ardra.ks/Desktop/Programming%20with%20Python/MScDSB-MDS171-23122109-Ardra/Lab%20Folder/Lab%2004/Lab%2004.ipynb#W0sZmlsZQ%3D%3D?line=21'>22</a>\u001b[0m \u001b[39m#Calling the function\u001b[39;00m\n\u001b[0;32m     <a href='vscode-notebook-cell:/c%3A/Users/Ardra.ks/Desktop/Programming%20with%20Python/MScDSB-MDS171-23122109-Ardra/Lab%20Folder/Lab%2004/Lab%2004.ipynb#W0sZmlsZQ%3D%3D?line=22'>23</a>\u001b[0m \u001b[39m#details(Name, Item, Qnty, Rate)\u001b[39;00m\n\u001b[0;32m     <a href='vscode-notebook-cell:/c%3A/Users/Ardra.ks/Desktop/Programming%20with%20Python/MScDSB-MDS171-23122109-Ardra/Lab%20Folder/Lab%2004/Lab%2004.ipynb#W0sZmlsZQ%3D%3D?line=23'>24</a>\u001b[0m \n\u001b[0;32m     <a href='vscode-notebook-cell:/c%3A/Users/Ardra.ks/Desktop/Programming%20with%20Python/MScDSB-MDS171-23122109-Ardra/Lab%20Folder/Lab%2004/Lab%2004.ipynb#W0sZmlsZQ%3D%3D?line=24'>25</a>\u001b[0m \u001b[39m#To get the daily report\u001b[39;00m\n\u001b[0;32m     <a href='vscode-notebook-cell:/c%3A/Users/Ardra.ks/Desktop/Programming%20with%20Python/MScDSB-MDS171-23122109-Ardra/Lab%20Folder/Lab%2004/Lab%2004.ipynb#W0sZmlsZQ%3D%3D?line=25'>26</a>\u001b[0m \u001b[39m#To get the total number of customers in a day\u001b[39;00m\n\u001b[0;32m     <a href='vscode-notebook-cell:/c%3A/Users/Ardra.ks/Desktop/Programming%20with%20Python/MScDSB-MDS171-23122109-Ardra/Lab%20Folder/Lab%2004/Lab%2004.ipynb#W0sZmlsZQ%3D%3D?line=27'>28</a>\u001b[0m customerCount \u001b[39m=\u001b[39m \u001b[39m0\u001b[39m\n",
      "\u001b[1;31mTypeError\u001b[0m: details() missing 4 required positional arguments: 'Name', 'Item', 'Qnty', and 'Rate'"
     ]
    }
   ],
   "source": [
    "#1. To store the details of grocery and customers we define a function:\n",
    "def details(Name, Item, Qnty, Rate):\n",
    "    file = open(\"FarmersHarvest.txt\",\"w+\")\n",
    "    file.write(\"Name\\t:\"+Name)\n",
    "    file.write(\"\\nItem\\t:\\t\"+Item)\n",
    "    file.write(\"\\nQnty\\t:\\t\"+Qnty)\n",
    "    file.write(\"\\nRate\\t:\\t\"+Rate)\n",
    "    file.close()\n",
    "\n",
    "#Giving all the user inputs\n",
    "\n",
    "Name = input(\"Name:\")\n",
    "Item = input(\"item:\")\n",
    "Qnty = input(\"qnty:\")\n",
    "Rate = input(\"Rate\")\n",
    "\n",
    "details()\n",
    "\n",
    "\n",
    "\n",
    "\n",
    "\n",
    "#Calling the function\n",
    "#details(Name, Item, Qnty, Rate)\n",
    "\n",
    "#To get the daily report\n",
    "#To get the total number of customers in a day\n",
    "\n",
    "customerCount = 0\n",
    "with open(\"FarmersHarvest.txt\") as file:\n",
    "    for line in file:\n",
    "        if \"Name\" in line:\n",
    "            customerCount = customerCount+1\n",
    "\n",
    "print(customerCount)\n",
    "\n",
    "\n"
   ]
  },
  {
   "cell_type": "code",
   "execution_count": null,
   "metadata": {},
   "outputs": [],
   "source": []
  }
 ],
 "metadata": {
  "kernelspec": {
   "display_name": "Python 3",
   "language": "python",
   "name": "python3"
  },
  "language_info": {
   "codemirror_mode": {
    "name": "ipython",
    "version": 3
   },
   "file_extension": ".py",
   "mimetype": "text/x-python",
   "name": "python",
   "nbconvert_exporter": "python",
   "pygments_lexer": "ipython3",
   "version": "3.10.0"
  },
  "orig_nbformat": 4
 },
 "nbformat": 4,
 "nbformat_minor": 2
}
