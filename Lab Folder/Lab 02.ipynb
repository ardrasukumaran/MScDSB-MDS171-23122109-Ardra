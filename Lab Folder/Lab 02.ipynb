{
 "cells": [
  {
   "cell_type": "code",
   "execution_count": 13,
   "metadata": {},
   "outputs": [
    {
     "name": "stdout",
     "output_type": "stream",
     "text": [
      "3456 ThreeFourFiveSix\n"
     ]
    }
   ],
   "source": [
    "#user input\n",
    "val = str(input(\"Enter the Value\"))\n",
    "\n",
    "#defining function\n",
    "\n",
    "def readVal(val):\n",
    "    str = \"\"\n",
    "    for i in val:\n",
    "        if i =='0':\n",
    "            str= str +\"Zero\"\n",
    "        elif i =='1':\n",
    "            str= str +\"One\"\n",
    "        elif i=='2':\n",
    "            str= str +\"Two\"\n",
    "        elif i =='3':\n",
    "            str= str +\"Three\"\n",
    "        elif i =='4':\n",
    "            str= str +\"Four\"\n",
    "        elif i =='5':\n",
    "            str= str +\"Five\"\n",
    "        elif i =='6':\n",
    "            str= str +\"Six\"\n",
    "        elif i =='7':\n",
    "            str= str +\"Seven\"\n",
    "        elif i =='8':\n",
    "            str= str +\"Eight\"\n",
    "        else:\n",
    "            str= str +\"Nine\"\n",
    "    print(val,str)\n",
    "    \n",
    "readVal(val)#calling the function"
   ]
  },
  {
   "cell_type": "code",
   "execution_count": 15,
   "metadata": {},
   "outputs": [
    {
     "name": "stdout",
     "output_type": "stream",
     "text": [
      "34 ThreeFour\n"
     ]
    }
   ],
   "source": [
    "val = str(input(\"Enter the Value\"))\n",
    "readVal(val)"
   ]
  },
  {
   "cell_type": "code",
   "execution_count": 16,
   "metadata": {},
   "outputs": [
    {
     "name": "stdout",
     "output_type": "stream",
     "text": [
      "908 NineZeroEight\n"
     ]
    }
   ],
   "source": [
    "val = str(input(\"Enter the Value\"))\n",
    "readVal(val)"
   ]
  }
 ],
 "metadata": {
  "kernelspec": {
   "display_name": "Python 3",
   "language": "python",
   "name": "python3"
  },
  "language_info": {
   "codemirror_mode": {
    "name": "ipython",
    "version": 3
   },
   "file_extension": ".py",
   "mimetype": "text/x-python",
   "name": "python",
   "nbconvert_exporter": "python",
   "pygments_lexer": "ipython3",
   "version": "3.10.0"
  },
  "orig_nbformat": 4
 },
 "nbformat": 4,
 "nbformat_minor": 2
}
