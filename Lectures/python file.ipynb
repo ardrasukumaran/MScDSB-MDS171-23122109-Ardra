{
 "cells": [
  {
   "cell_type": "markdown",
   "metadata": {},
   "source": []
  },
  {
   "cell_type": "code",
   "execution_count": 1,
   "metadata": {},
   "outputs": [],
   "source": [
    "\n",
    "import random\n",
    "\n",
    "# Global list to store student data\n",
    "students = []\n",
    "\n",
    "# Function to calculate the grade based on the score\n",
    "def calculate_grade(score):\n",
    "    if score >= 90:\n",
    "        return 'A'\n",
    "    elif score >= 80:\n",
    "        return 'B'\n",
    "    elif score >= 70:\n",
    "        return 'C'\n",
    "    elif score >= 60:\n",
    "        return 'D'\n",
    "    else:\n",
    "        return 'F'\n",
    "\n",
    "\n",
    "        \n"
   ]
  },
  {
   "cell_type": "code",
   "execution_count": 2,
   "metadata": {},
   "outputs": [],
   "source": [
    "# Function to input student details and calculate grades\n",
    "def student_grading_system():\n",
    "    num_students = int(input(\"Enter the number of students:\"))\n",
    "\n",
    "    for i in range(num_students):\n",
    "        student_name = input(f\"Enter the name of student {i + 1}:\")\n",
    "        student_reg = input(f\"Enter Student Register Number of {student_name}:\")\n",
    "        mark1 = random.randint(0, 100)\n",
    "        mark2 = int(input(\"mark 2:\"))\n",
    "        mark3 = int(input(\"mark 3:\"))\n",
    "        total = mark1 + mark2 + mark3\n",
    "        student_score = round((total / 300) * 100,2)\n",
    "\n",
    "        grade = calculate_grade(student_score)\n",
    "\n",
    "        student_data = {\n",
    "            'Name': student_name,\n",
    "            'Reg': student_reg,\n",
    "            'mark1': mark1,\n",
    "            'mark2': mark2,\n",
    "            'mark3': mark3,\n",
    "            'Score': student_score,\n",
    "            'Grade': grade\n",
    "        }\n",
    "\n",
    "        students.append(student_data)\n",
    "        \n",
    "         # Display the results\n",
    "    print(\"\\nStudent Grading Report:\")\n",
    "    print(\"----------------------------\")\n",
    "    print(\"Name\\t|\\tReg No\\t|\\tmark1\\t|\\tmark2\\t|\\tmark3\\t|\\tScore\\t|\\tGrade\")\n",
    "    print(\"----------------------------\")\n",
    "    for student in students:\n",
    "        print(f\"{student['Name']}\\t|\\t{student['Reg']}\\t|\\t{student['mark1']}\\t|\\t{student['mark2']}\\t|\\t{student['mark3']}\\t|\\t{student['Score']}\\t|\\t{student['Grade']}\\n\")\n",
    "    print(\"*\"*30)\n",
    "    \n",
    "        "
   ]
  },
  {
   "cell_type": "code",
   "execution_count": 3,
   "metadata": {},
   "outputs": [
    {
     "name": "stdout",
     "output_type": "stream",
     "text": [
      "\n",
      "Student Grading Report:\n",
      "----------------------------\n",
      "Name\t|\tReg No\t|\tmark1\t|\tmark2\t|\tmark3\t|\tScore\t|\tGrade\n",
      "----------------------------\n",
      "ardra\t|\t11\t|\t40\t|\t45\t|\t78\t|\t54.33\t|\tF\n",
      "\n",
      "rayaan\t|\t12\t|\t56\t|\t89\t|\t90\t|\t78.33\t|\tC\n",
      "\n",
      "riya\t|\t14\t|\t67\t|\t90\t|\t87\t|\t81.33\t|\tB\n",
      "\n",
      "aadi\t|\t18\t|\t10\t|\t78\t|\t90\t|\t59.33\t|\tF\n",
      "\n",
      "******************************\n",
      "The grade for ardra is F\n"
     ]
    }
   ],
   "source": [
    "# Function to search for a student's grade by name\n",
    "def search_student_grade(search_name):\n",
    "    for student in students:\n",
    "        if student['Name'] == search_name:\n",
    "            return student['Grade']\n",
    "# Return None if the student is not found\n",
    "    return None  \n",
    "if __name__ == \"__main__\":\n",
    "    # Function to input student details and calculate grades\n",
    "    student_grading_system() \n",
    "\n",
    "    # Asking the user to enter a student name to search for\n",
    "    search_name = input(\"\\nEnter a student name to search for:\")\n",
    "\n",
    "    # Search for the student's grade by name\n",
    "    grade = search_student_grade(search_name)\n",
    "\n",
    "    # Print the result\n",
    "    if grade is not None:\n",
    "        print(f\"The grade for {search_name} is {grade}\")\n",
    "    else:\n",
    "        print(f\"Student not found in the records.\")"
   ]
  },
  {
   "cell_type": "code",
   "execution_count": 14,
   "metadata": {},
   "outputs": [
    {
     "name": "stdout",
     "output_type": "stream",
     "text": [
      "81.33\n"
     ]
    }
   ],
   "source": [
    "max_score = 0\n",
    "for student in students:\n",
    "    score = student['Score']\n",
    "    if score > max_score:\n",
    "        max_score = score\n",
    "print(max_score)"
   ]
  },
  {
   "cell_type": "code",
   "execution_count": 15,
   "metadata": {},
   "outputs": [
    {
     "name": "stdout",
     "output_type": "stream",
     "text": [
      "59.33\n"
     ]
    }
   ],
   "source": [
    "min_score = 100\n",
    "for student in students:\n",
    "    score = student['Score']\n",
    "    if score < max_score:\n",
    "        min_score = score\n",
    "print(min_score)"
   ]
  }
 ],
 "metadata": {
  "kernelspec": {
   "display_name": "Python 3",
   "language": "python",
   "name": "python3"
  },
  "language_info": {
   "codemirror_mode": {
    "name": "ipython",
    "version": 3
   },
   "file_extension": ".py",
   "mimetype": "text/x-python",
   "name": "python",
   "nbconvert_exporter": "python",
   "pygments_lexer": "ipython3",
   "version": "3.10.0"
  },
  "orig_nbformat": 4
 },
 "nbformat": 4,
 "nbformat_minor": 2
}
