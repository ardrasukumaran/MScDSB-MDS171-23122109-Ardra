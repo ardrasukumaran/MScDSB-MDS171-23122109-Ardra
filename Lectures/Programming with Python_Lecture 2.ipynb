{
 "cells": [
  {
   "cell_type": "code",
   "execution_count": 1,
   "id": "b72893fd",
   "metadata": {
    "scrolled": true
   },
   "outputs": [
    {
     "data": {
      "text/plain": [
       "'\\nthis is a comment.\\nThis is line 2\\n'"
      ]
     },
     "execution_count": 1,
     "metadata": {},
     "output_type": "execute_result"
    }
   ],
   "source": [
    "#multilined comments are written in \"\"\"\"\"\"\"\"\"\"\n",
    "\n",
    "\"\"\"\n",
    "this is a comment.\n",
    "This is line 2\n",
    "\"\"\""
   ]
  },
  {
   "cell_type": "code",
   "execution_count": null,
   "id": "85d66836",
   "metadata": {},
   "outputs": [],
   "source": []
  },
  {
   "cell_type": "code",
   "execution_count": 3,
   "id": "7bdba089",
   "metadata": {},
   "outputs": [
    {
     "data": {
      "text/plain": [
       "int"
      ]
     },
     "execution_count": 3,
     "metadata": {},
     "output_type": "execute_result"
    }
   ],
   "source": [
    "msg=\"String msg\"\n",
    "type(msg)"
   ]
  },
  {
   "cell_type": "code",
   "execution_count": 4,
   "id": "ba22a87a",
   "metadata": {},
   "outputs": [
    {
     "data": {
      "text/plain": [
       "int"
      ]
     },
     "execution_count": 4,
     "metadata": {},
     "output_type": "execute_result"
    }
   ],
   "source": [
    "msg2=10\n",
    "type(msg2)"
   ]
  },
  {
   "cell_type": "code",
   "execution_count": 7,
   "id": "259cdb51",
   "metadata": {},
   "outputs": [
    {
     "name": "stdout",
     "output_type": "stream",
     "text": [
      "enter the number...23\n",
      "enter the number...45\n",
      "45\n"
     ]
    }
   ],
   "source": [
    "input(\"enter the number...\")"
   ]
  },
  {
   "cell_type": "code",
   "execution_count": 8,
   "id": "1f3f3208",
   "metadata": {},
   "outputs": [
    {
     "name": "stdout",
     "output_type": "stream",
     "text": [
      "enter the number...89\n",
      "89\n"
     ]
    }
   ],
   "source": [
    "#we use variables to store the input that the user is giving\n",
    "a = input(\"enter the number...\")\n",
    "print(a)"
   ]
  },
  {
   "cell_type": "code",
   "execution_count": 2,
   "id": "8817f263",
   "metadata": {},
   "outputs": [
    {
     "name": "stdout",
     "output_type": "stream",
     "text": [
      "enter the number...20\n"
     ]
    },
    {
     "data": {
      "text/plain": [
       "int"
      ]
     },
     "execution_count": 2,
     "metadata": {},
     "output_type": "execute_result"
    }
   ],
   "source": [
    "#Typecasting: Changing of one type to another\n",
    "a=int(input(\"enter the number...\"))\n",
    "type(a)"
   ]
  },
  {
   "cell_type": "code",
   "execution_count": 10,
   "id": "c4606218",
   "metadata": {},
   "outputs": [
    {
     "name": "stdout",
     "output_type": "stream",
     "text": [
      "program start\n",
      "program end\n"
     ]
    }
   ],
   "source": [
    "##IF Statement##\n",
    "\n",
    "a=10\n",
    "print(\"program start\")\n",
    "if a==5:\n",
    "    print(\"the value of a is 5\")\n",
    "print(\"program end\")"
   ]
  },
  {
   "cell_type": "code",
   "execution_count": null,
   "id": "a235c57b",
   "metadata": {},
   "outputs": [],
   "source": []
  }
 ],
 "metadata": {
  "kernelspec": {
   "display_name": "Python 3 (ipykernel)",
   "language": "python",
   "name": "python3"
  },
  "language_info": {
   "codemirror_mode": {
    "name": "ipython",
    "version": 3
   },
   "file_extension": ".py",
   "mimetype": "text/x-python",
   "name": "python",
   "nbconvert_exporter": "python",
   "pygments_lexer": "ipython3",
   "version": "3.10.9"
  }
 },
 "nbformat": 4,
 "nbformat_minor": 5
}
