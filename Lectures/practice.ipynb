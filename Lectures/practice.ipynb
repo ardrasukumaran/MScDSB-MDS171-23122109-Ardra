{
 "cells": [
  {
   "cell_type": "code",
   "execution_count": 27,
   "metadata": {},
   "outputs": [
    {
     "name": "stdout",
     "output_type": "stream",
     "text": [
      "{'Name': 'zxc', 'RegNo': '2', 'class': 'a'}\n"
     ]
    }
   ],
   "source": [
    "studentDetails = {}\n",
    "n = int(input(\"Enter the number of students: \"))\n",
    "for i in range(1,n+1):\n",
    "    name = input(\"Enter the name of students: \")\n",
    "    regNo = input(\"Enter the register number of students: \")\n",
    "    Class = input(\"Enter the class of student: \")\n",
    "    \n",
    "    studentDetails[\"Name\"] = name\n",
    "    studentDetails[\"RegNo\"] = regNo\n",
    "    studentDetails[\"class\"] = Class\n",
    "    new = {\"Name\":name,\"RegNo\":regNo,\"class\":Class}\n",
    "studentDetails.update(new)\n",
    "\n",
    "    print(studentDetails)\n"
   ]
  },
  {
   "cell_type": "code",
   "execution_count": 2,
   "metadata": {},
   "outputs": [],
   "source": [
    "class PhoneDir():\n",
    "\n",
    "    def __init__(self):\n",
    "        self.dic2 ={}\n",
    "\n",
    "    def add(self):\n",
    "\n",
    "        name = input(\"enter the Name: \")\n",
    "        No = input(\"Enter the no: \")\n",
    "        place = input(\"Enter the place\")\n",
    "        self.dic3 = {\n",
    "            \"Name\":name,\n",
    "            \"Ph\": No,\n",
    "            \"place\":place\n",
    "        }\n",
    "        self.dic2[No]=self.dic3\n",
    "        print(self.dic2)\n",
    "    \n",
    "    def edit(self):\n",
    "\n",
    "        editNo = input(\"Enter the number: \")\n",
    "        for key in self.dic2.keys():\n",
    "            flag = True\n",
    "            if editNo == key:\n",
    "                newName = input(\"Enter the Newname: \")\n",
    "                newPh = input(\"Enter the Newph: \")\n",
    "                newPlace = input(\"Enter the Newplace: \")\n",
    "                self.dic2[key][\"Name\"] = newName\n",
    "                self.dic2[key][\"Ph\"] = newPh\n",
    "                self.dic2[key][\"place\"] = newPlace\n",
    "                print(self.dic2)\n",
    "                break\n",
    "            else:\n",
    "                flag = False\n",
    "        if flag == False:\n",
    "            print(self.dic2)\n",
    "    \n",
    "    def delete(self):\n",
    "        delNo = input(\"Enter the no to be deleted: \")\n",
    "        self.dic2.pop(delNo)\n",
    "        print(self.dic2)\n",
    "    \n",
    "    def searchItem(self):\n",
    "        searchName = input(\"Enter the ph\")\n",
    "        for key in self.dic2.keys():\n",
    "            flag = True\n",
    "            if searchName == key:\n",
    "                print(self.dic2[key])\n",
    "                break\n",
    "            else:\n",
    "                flag = False\n",
    "        if flag == False:\n",
    "            print(\"Search not found\")\n",
    "    \n",
    "\n",
    "\n"
   ]
  },
  {
   "cell_type": "code",
   "execution_count": 4,
   "metadata": {},
   "outputs": [
    {
     "name": "stdout",
     "output_type": "stream",
     "text": [
      "{'1': {'Name': 'ardra', 'Ph': '1', 'place': 'kerala'}}\n",
      "{'1': {'Name': 'ardra', 'Ph': '1', 'place': 'kerala'}, '21345': {'Name': 'PC', 'Ph': '21345', 'place': 'Lavasa'}}\n"
     ]
    },
    {
     "ename": "",
     "evalue": "",
     "output_type": "error",
     "traceback": [
      "\u001b[1;31mThe Kernel crashed while executing code in the the current cell or a previous cell. Please review the code in the cell(s) to identify a possible cause of the failure. Click <a href='https://aka.ms/vscodeJupyterKernelCrash'>here</a> for more info. View Jupyter <a href='command:jupyter.viewOutput'>log</a> for further details."
     ]
    }
   ],
   "source": [
    "a = PhoneDir()\n",
    "\n",
    "#Menu Driven\n",
    "while True:\n",
    "    choice = int(input(\"Enter your choice: \"))\n",
    "    if choice == 1:\n",
    "        a.add()\n",
    "    elif choice == 2:\n",
    "        a.edit()\n",
    "    elif choice == 3:\n",
    "        a.delete()\n",
    "    elif choice == 4:\n",
    "        a.searchItem()\n",
    "    elif choice == 5:\n",
    "        exit()\n",
    "    else:\n",
    "        print(\"Invalid choice\")\n"
   ]
  }
 ],
 "metadata": {
  "kernelspec": {
   "display_name": "Python 3",
   "language": "python",
   "name": "python3"
  },
  "language_info": {
   "codemirror_mode": {
    "name": "ipython",
    "version": 3
   },
   "file_extension": ".py",
   "mimetype": "text/x-python",
   "name": "python",
   "nbconvert_exporter": "python",
   "pygments_lexer": "ipython3",
   "version": "3.10.0"
  }
 },
 "nbformat": 4,
 "nbformat_minor": 2
}
