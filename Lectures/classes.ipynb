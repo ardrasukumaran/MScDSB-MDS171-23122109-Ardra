{
 "cells": [
  {
   "cell_type": "markdown",
   "metadata": {},
   "source": [
    "We are using a class resturant. In that we can use funtions like:\n",
    "1. customers ->orders (Menu items)\n",
    "2. collecting orders\n",
    "3. billing\n",
    "4. print bill\n",
    "5. update order\n",
    "6. search for the order"
   ]
  },
  {
   "cell_type": "code",
   "execution_count": 3,
   "metadata": {},
   "outputs": [],
   "source": [
    "import random\n",
    "\n",
    "class resturant:\n",
    "    def __init__(self):\n",
    "        self.menu = {\n",
    "            \"rice\":30,\n",
    "            \"idli\":10,\n",
    "            \"vada\":8,\n",
    "            \"tea\":10,\n",
    "            \"upma\":25\n",
    "        }\n",
    "\n",
    "        #orderid: {set of order details}\n",
    "        self.orders = {}\n",
    "    \n",
    "    def printMenu(self):\n",
    "        print(\"--\"*30)\n",
    "        print(\"The current options in the menu are:\")\n",
    "        print(\"--\"*30)\n",
    "        print(self.menu)\n",
    "        print(\"--\"*30)\n",
    "\n",
    "    def GenOrderID(self):\n",
    "        orderID = \"\"\n",
    "        for i in range(1,6,1): #to get a 5 digit random orderID\n",
    "            orderID = orderID+str(random.randint(i,10))#concatenating strings\n",
    "        return orderID\n",
    "    \n",
    "    def collectOrder(self):\n",
    "        self.printMenu() #print menu\n",
    "        phone = input(\"Enter the ph No of customer:\")\n",
    "        order = {}\n",
    "        while True: #to order multiple orders\n",
    "            item = input(\"Enter the items you want to order:\")\n",
    "            qnty = int(input(\"Enter the quantity of the item:\")) #ask user to enter the value\n",
    "            order[item] = qnty\n",
    "        \n",
    "            choice = input(\"Do you want to complete order?\")\n",
    "            if choice == \"Y\":\n",
    "                break\n",
    "        orderID = self.GenOrderID()\n",
    "        self.orders[orderID] = {\n",
    "            \"phone\" : phone,\n",
    "            \"order\" : order\n",
    "        }\n",
    "        #print the order\n",
    "        print(self.orders)\n",
    "    \n",
    "    def billing(self):\n",
    "        total = 0\n",
    "        totalEarn = 0\n",
    "        for orderid in self.orders:\n",
    "            print(self.orders[orderid]['order'])\n",
    "            for key in self.orders[orderid]['order']:\n",
    "                print(key)\n",
    "                print(self.orders[orderid]['order'][key]) #qty\n",
    "                print(self.menu[key.lower()]) #unit price\n",
    "                price = self.orders[orderid]['order'][key] * self.menu[key.lower()]\n",
    "                total = total+price\n",
    "                totalEarn = totalEarn+total\n",
    "                print(\"price =\",price)\n",
    "            print(\"total =\",total)\n",
    "        print(\"Earning of today is: \",totalEarn,\"Rupees\")\n",
    "        \n",
    "    \n"
   ]
  },
  {
   "cell_type": "code",
   "execution_count": 4,
   "metadata": {},
   "outputs": [
    {
     "name": "stdout",
     "output_type": "stream",
     "text": [
      "------------------------------------------------------------\n",
      "The current options in the menu are:\n",
      "------------------------------------------------------------\n",
      "{'rice': 30, 'idli': 10, 'vada': 8, 'tea': 10, 'upma': 25}\n",
      "------------------------------------------------------------\n",
      "{'585510': {'phone': '1234567', 'order': {'tea': 10, 'rice': 9, 'upma': 7}}}\n",
      "{'tea': 10, 'rice': 9, 'upma': 7}\n",
      "tea\n",
      "10\n",
      "10\n",
      "price = 100\n",
      "rice\n",
      "9\n",
      "30\n",
      "price = 270\n",
      "upma\n",
      "7\n",
      "25\n",
      "price = 175\n",
      "total = 545\n",
      "Earning of today is:  1015 Rupees\n",
      "------------------------------------------------------------\n",
      "The current options in the menu are:\n",
      "------------------------------------------------------------\n",
      "{'rice': 30, 'idli': 10, 'vada': 8, 'tea': 10, 'upma': 25}\n",
      "------------------------------------------------------------\n",
      "{'585510': {'phone': '1234567', 'order': {'tea': 10, 'rice': 9, 'upma': 7}}, '87355': {'phone': '6789789', 'order': {'idli': 6}}}\n",
      "{'tea': 10, 'rice': 9, 'upma': 7}\n",
      "tea\n",
      "10\n",
      "10\n",
      "price = 100\n",
      "rice\n",
      "9\n",
      "30\n",
      "price = 270\n",
      "upma\n",
      "7\n",
      "25\n",
      "price = 175\n",
      "total = 545\n",
      "{'idli': 6}\n",
      "idli\n",
      "6\n",
      "10\n",
      "price = 60\n",
      "total = 605\n",
      "Earning of today is:  1620 Rupees\n",
      "------------------------------------------------------------\n",
      "The current options in the menu are:\n",
      "------------------------------------------------------------\n",
      "{'rice': 30, 'idli': 10, 'vada': 8, 'tea': 10, 'upma': 25}\n",
      "------------------------------------------------------------\n",
      "{'585510': {'phone': '1234567', 'order': {'tea': 10, 'rice': 9, 'upma': 7}}, '87355': {'phone': '6789789', 'order': {'idli': 6}}, '234107': {'phone': '456789', 'order': {'rice': 12, 'vada': 5}}}\n",
      "{'tea': 10, 'rice': 9, 'upma': 7}\n",
      "tea\n",
      "10\n",
      "10\n",
      "price = 100\n",
      "rice\n",
      "9\n",
      "30\n",
      "price = 270\n",
      "upma\n",
      "7\n",
      "25\n",
      "price = 175\n",
      "total = 545\n",
      "{'idli': 6}\n",
      "idli\n",
      "6\n",
      "10\n",
      "price = 60\n",
      "total = 605\n",
      "{'rice': 12, 'vada': 5}\n",
      "rice\n",
      "12\n",
      "30\n",
      "price = 360\n",
      "vada\n",
      "5\n",
      "8\n",
      "price = 40\n",
      "total = 1005\n",
      "Earning of today is:  3590 Rupees\n"
     ]
    }
   ],
   "source": [
    "cbtv = resturant()\n",
    "for item in range(1,4):\n",
    "    cbtv.collectOrder()\n",
    "    cbtv.billing()"
   ]
  },
  {
   "cell_type": "code",
   "execution_count": 24,
   "metadata": {},
   "outputs": [
    {
     "ename": "AttributeError",
     "evalue": "'resturant' object has no attribute 'qnty'",
     "output_type": "error",
     "traceback": [
      "\u001b[1;31m---------------------------------------------------------------------------\u001b[0m",
      "\u001b[1;31mAttributeError\u001b[0m                            Traceback (most recent call last)",
      "\u001b[1;32mc:\\Users\\Ardra.ks\\Desktop\\Programming with Python\\classes.ipynb Cell 4\u001b[0m line \u001b[0;36m1\n\u001b[1;32m----> <a href='vscode-notebook-cell:/c%3A/Users/Ardra.ks/Desktop/Programming%20with%20Python/classes.ipynb#W6sZmlsZQ%3D%3D?line=0'>1</a>\u001b[0m cbtv\u001b[39m.\u001b[39;49mbilling()\n",
      "\u001b[1;32mc:\\Users\\Ardra.ks\\Desktop\\Programming with Python\\classes.ipynb Cell 4\u001b[0m line \u001b[0;36m5\n\u001b[0;32m     <a href='vscode-notebook-cell:/c%3A/Users/Ardra.ks/Desktop/Programming%20with%20Python/classes.ipynb#W6sZmlsZQ%3D%3D?line=48'>49</a>\u001b[0m \u001b[39mdef\u001b[39;00m \u001b[39mbilling\u001b[39m(\u001b[39mself\u001b[39m):\n\u001b[1;32m---> <a href='vscode-notebook-cell:/c%3A/Users/Ardra.ks/Desktop/Programming%20with%20Python/classes.ipynb#W6sZmlsZQ%3D%3D?line=49'>50</a>\u001b[0m     price \u001b[39m=\u001b[39m \u001b[39mself\u001b[39;49m\u001b[39m.\u001b[39;49mqnty\u001b[39m*\u001b[39m\u001b[39mself\u001b[39m\u001b[39m.\u001b[39mmenu[\u001b[39mself\u001b[39m\u001b[39m.\u001b[39mitem]\n\u001b[0;32m     <a href='vscode-notebook-cell:/c%3A/Users/Ardra.ks/Desktop/Programming%20with%20Python/classes.ipynb#W6sZmlsZQ%3D%3D?line=50'>51</a>\u001b[0m     \u001b[39mreturn\u001b[39;00m price\n",
      "\u001b[1;31mAttributeError\u001b[0m: 'resturant' object has no attribute 'qnty'"
     ]
    }
   ],
   "source": [
    "cbtv.billing()"
   ]
  },
  {
   "cell_type": "code",
   "execution_count": 36,
   "metadata": {},
   "outputs": [],
   "source": [
    "orders = {'938109': {'phone': '12345567', 'order': {'upma': 4, 'tea': 10}}, '53846': {'phone': '3456789', 'order': {'RICE': 5}}, '391097': {'phone': '90875433', 'order': {'idli': 5}}}\n",
    "menu = {\n",
    "            \"rice\":30,\n",
    "            \"idli\":10,\n",
    "            \"vada\":8,\n",
    "            \"tea\":10,\n",
    "            \"upma\":25\n",
    "        }"
   ]
  },
  {
   "cell_type": "code",
   "execution_count": 37,
   "metadata": {},
   "outputs": [
    {
     "name": "stdout",
     "output_type": "stream",
     "text": [
      "{'938109': {'phone': '12345567', 'order': {'upma': 4, 'tea': 10}}, '53846': {'phone': '3456789', 'order': {'RICE': 5}}, '391097': {'phone': '90875433', 'order': {'idli': 5}}}\n"
     ]
    }
   ],
   "source": [
    "print(orders)"
   ]
  },
  {
   "cell_type": "code",
   "execution_count": 45,
   "metadata": {},
   "outputs": [
    {
     "name": "stdout",
     "output_type": "stream",
     "text": [
      "{'upma': 4, 'tea': 10}\n",
      "upma\n",
      "4\n",
      "25\n",
      "price = 100\n",
      "tea\n",
      "10\n",
      "10\n",
      "price = 100\n",
      "total = 200\n",
      "{'RICE': 5}\n",
      "RICE\n",
      "5\n",
      "30\n",
      "price = 150\n",
      "total = 350\n",
      "{'idli': 5}\n",
      "idli\n",
      "5\n",
      "10\n",
      "price = 50\n",
      "total = 400\n",
      "Earning of today is:  1050 Rupees\n"
     ]
    }
   ],
   "source": [
    "total = 0\n",
    "totalEarn = 0\n",
    "for orderid in orders:\n",
    "    print(orders[orderid]['order'])\n",
    "    for key in orders[orderid]['order']:\n",
    "        print(key)\n",
    "        print(orders[orderid]['order'][key]) #qty\n",
    "        print(menu[key.lower()]) #unit price\n",
    "        price = orders[orderid]['order'][key] * menu[key.lower()]\n",
    "        total = total+price\n",
    "        totalEarn = totalEarn+total\n",
    "        print(\"price =\",price)\n",
    "    print(\"total =\",total)\n",
    "print(\"Earning of today is: \",totalEarn,\"Rupees\")"
   ]
  },
  {
   "cell_type": "code",
   "execution_count": null,
   "metadata": {},
   "outputs": [],
   "source": []
  }
 ],
 "metadata": {
  "kernelspec": {
   "display_name": "Python 3",
   "language": "python",
   "name": "python3"
  },
  "language_info": {
   "codemirror_mode": {
    "name": "ipython",
    "version": 3
   },
   "file_extension": ".py",
   "mimetype": "text/x-python",
   "name": "python",
   "nbconvert_exporter": "python",
   "pygments_lexer": "ipython3",
   "version": "3.10.0"
  },
  "orig_nbformat": 4
 },
 "nbformat": 4,
 "nbformat_minor": 2
}
