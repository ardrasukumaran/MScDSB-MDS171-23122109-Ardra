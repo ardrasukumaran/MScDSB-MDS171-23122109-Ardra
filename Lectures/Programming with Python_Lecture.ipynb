{
 "cells": [
  {
   "cell_type": "markdown",
   "id": "94e7b92c",
   "metadata": {
    "scrolled": true
   },
   "source": [
    "# LECTURE 1"
   ]
  },
  {
   "cell_type": "code",
   "execution_count": null,
   "id": "bd2be8c6",
   "metadata": {},
   "outputs": [],
   "source": [
    "#multilined comments are written in \"\"\"\"\"\"\"\"\"\"\n",
    "\n",
    "\"\"\"\n",
    "this is a comment.\n",
    "This is line 2\n",
    "\"\"\""
   ]
  },
  {
   "cell_type": "code",
   "execution_count": 3,
   "id": "7bdba089",
   "metadata": {},
   "outputs": [
    {
     "data": {
      "text/plain": [
       "int"
      ]
     },
     "execution_count": 3,
     "metadata": {},
     "output_type": "execute_result"
    }
   ],
   "source": [
    "msg=\"String msg\"\n",
    "type(msg)"
   ]
  },
  {
   "cell_type": "code",
   "execution_count": 4,
   "id": "ba22a87a",
   "metadata": {},
   "outputs": [
    {
     "data": {
      "text/plain": [
       "int"
      ]
     },
     "execution_count": 4,
     "metadata": {},
     "output_type": "execute_result"
    }
   ],
   "source": [
    "msg2=10\n",
    "type(msg2)"
   ]
  },
  {
   "cell_type": "code",
   "execution_count": 7,
   "id": "259cdb51",
   "metadata": {},
   "outputs": [
    {
     "name": "stdout",
     "output_type": "stream",
     "text": [
      "enter the number...23\n",
      "enter the number...45\n",
      "45\n"
     ]
    }
   ],
   "source": [
    "input(\"enter the number...\")"
   ]
  },
  {
   "cell_type": "code",
   "execution_count": 8,
   "id": "1f3f3208",
   "metadata": {},
   "outputs": [
    {
     "name": "stdout",
     "output_type": "stream",
     "text": [
      "enter the number...89\n",
      "89\n"
     ]
    }
   ],
   "source": [
    "#we use variables to store the input that the user is giving\n",
    "a = input(\"enter the number...\")\n",
    "print(a)"
   ]
  },
  {
   "cell_type": "code",
   "execution_count": 14,
   "id": "85e0c053",
   "metadata": {},
   "outputs": [
    {
     "name": "stdout",
     "output_type": "stream",
     "text": [
      "enter the number...90\n"
     ]
    },
    {
     "data": {
      "text/plain": [
       "int"
      ]
     },
     "execution_count": 14,
     "metadata": {},
     "output_type": "execute_result"
    }
   ],
   "source": [
    "#Typecasting: Changing of one type to another\n",
    "a=int(input(\"enter the number...\"))\n",
    "type(a)"
   ]
  },
  {
   "cell_type": "code",
   "execution_count": 10,
   "id": "32e2235c",
   "metadata": {},
   "outputs": [
    {
     "name": "stdout",
     "output_type": "stream",
     "text": [
      "program start\n",
      "program end\n"
     ]
    }
   ],
   "source": [
    "##IF Statement##\n",
    "\n",
    "a=10\n",
    "print(\"program start\")\n",
    "if a==5:\n",
    "    print(\"the value of a is 5\")\n",
    "print(\"program end\")"
   ]
  },
  {
   "cell_type": "code",
   "execution_count": 15,
   "id": "1ca6d589",
   "metadata": {},
   "outputs": [
    {
     "name": "stdout",
     "output_type": "stream",
     "text": [
      "program start\n",
      "The value of A is not 5\n",
      "program end\n"
     ]
    }
   ],
   "source": [
    "##IF Else Statement##\n",
    "\n",
    "a=10\n",
    "print(\"program start\")\n",
    "if a==5:\n",
    "    print(\"the value of A is 5\")\n",
    "else:\n",
    "    print(\"The value of A is not 5\")\n",
    "print(\"program end\")"
   ]
  },
  {
   "cell_type": "markdown",
   "id": "42bbe8ab",
   "metadata": {},
   "source": [
    "# LECTURE 3\n"
   ]
  },
  {
   "cell_type": "code",
   "execution_count": null,
   "id": "3f09d80c",
   "metadata": {},
   "outputs": [],
   "source": [
    "#based on the user input, print the corresponding day of the week if 1=> sunday, if 2=>monday,...."
   ]
  },
  {
   "cell_type": "code",
   "execution_count": 12,
   "id": "9d7ad211",
   "metadata": {},
   "outputs": [
    {
     "name": "stdout",
     "output_type": "stream",
     "text": [
      "Enter the number6\n",
      "saturday\n"
     ]
    }
   ],
   "source": [
    "a=int(input(\"Enter the number\"))\n",
    "if a==1:\n",
    "    print(\"sunday\")\n",
    "elif a==2:\n",
    "    print(\"monday\")\n",
    "elif a==3:\n",
    "    print(\"tuesday\")\n",
    "elif a==3:\n",
    "    print(\"wednesday\")\n",
    "elif a==4:\n",
    "    print(\"thursday\")\n",
    "elif a==5:\n",
    "    print(\"friday\")\n",
    "elif a==6:\n",
    "    print(\"saturday\")\n",
    "else:\n",
    "    print(\"not defined\")"
   ]
  },
  {
   "cell_type": "code",
   "execution_count": 2,
   "id": "2dd89349",
   "metadata": {},
   "outputs": [
    {
     "name": "stdout",
     "output_type": "stream",
     "text": [
      "8\n"
     ]
    }
   ],
   "source": [
    "name=\"Ardra KS\"\n",
    "print(len(name))"
   ]
  },
  {
   "cell_type": "markdown",
   "id": "72c5d661",
   "metadata": {},
   "source": [
    "### String"
   ]
  },
  {
   "cell_type": "code",
   "execution_count": 1,
   "id": "43596d67",
   "metadata": {},
   "outputs": [
    {
     "name": "stdout",
     "output_type": "stream",
     "text": [
      "35\n",
      "fdghjjk           hj,k.\n"
     ]
    }
   ],
   "source": [
    "#Strip(), split(), format()\n",
    "#strip function removes the space between the strings\n",
    "name = \"        fdghjjk           hj,k.    \"\n",
    "print(len(name))\n",
    "print(name.strip()) #attathe space povm\n"
   ]
  },
  {
   "cell_type": "code",
   "execution_count": 4,
   "id": "c671bd0b",
   "metadata": {},
   "outputs": [
    {
     "name": "stdout",
     "output_type": "stream",
     "text": [
      "['a', 'b,c', 'd']\n"
     ]
    }
   ],
   "source": [
    "#To get thee individual characters saperately\n",
    "numbers = \"2,3,4,5,6,7,8\"\n",
    "numbers=\"a.b,c.d\"\n",
    "print(numbers.split('.'))"
   ]
  },
  {
   "cell_type": "code",
   "execution_count": 23,
   "id": "89186113",
   "metadata": {},
   "outputs": [
    {
     "name": "stdout",
     "output_type": "stream",
     "text": [
      "['2', '3', '4', '5', '6', '7', '8']\n",
      "35\n"
     ]
    }
   ],
   "source": [
    "numbers = \"2,3,4,5,6,7,8\"\n",
    "nos = numbers.split(',')\n",
    "print(nos)\n",
    "sum=0\n",
    "for item in nos:\n",
    "    #print(item)\n",
    "    sum=sum+int(item)\n",
    "print(sum)"
   ]
  },
  {
   "cell_type": "code",
   "execution_count": 6,
   "id": "a2dcf37c",
   "metadata": {},
   "outputs": [
    {
     "name": "stdout",
     "output_type": "stream",
     "text": [
      "<class 'list'>\n",
      "2 <class 'str'> 2 <class 'int'>\n",
      "3 <class 'str'> 3 <class 'int'>\n",
      "4 <class 'str'> 4 <class 'int'>\n",
      "5 <class 'str'> 5 <class 'int'>\n",
      "6 <class 'str'> 6 <class 'int'>\n",
      "7 <class 'str'> 7 <class 'int'>\n",
      "8 <class 'str'> 8 <class 'int'>\n"
     ]
    }
   ],
   "source": [
    "#To find the sum to these numbers. Now the numbers are of type numbers.\n",
    "numbers = \"2,3,4,5,6,7,8\"\n",
    "nos = numbers.split(',')\n",
    "print(type(nos))\n",
    "for item in nos:\n",
    "    temp = int(item) #temp stores the integer version of item\n",
    "    print(item, type(item), temp, type(temp))\n",
    "    "
   ]
  },
  {
   "cell_type": "code",
   "execution_count": 15,
   "id": "78d49ae3",
   "metadata": {},
   "outputs": [
    {
     "name": "stdout",
     "output_type": "stream",
     "text": [
      "35\n"
     ]
    }
   ],
   "source": [
    "#To find the sum to these numbers\n",
    "\n",
    "numbers = \"2,3,4,5,6,7,8\"\n",
    "nos = numbers.split(',')\n",
    "sum = 0\n",
    "for item in nos:\n",
    "    temp = int(item) \n",
    "    sum = sum+temp\n",
    "print(sum)"
   ]
  },
  {
   "cell_type": "markdown",
   "id": "dcc6f452",
   "metadata": {},
   "source": [
    "### Format()"
   ]
  },
  {
   "cell_type": "code",
   "execution_count": 7,
   "id": "49900f13",
   "metadata": {},
   "outputs": [
    {
     "name": "stdout",
     "output_type": "stream",
     "text": [
      "your username:Kusuuuuuuuuu and password entered is:lebanese\n",
      "your username: Kusuuuuuuuuu  and password entered is lebanese\n"
     ]
    }
   ],
   "source": [
    "name = input(\"Enter the user name:\")\n",
    "password = input(\"Enter the password\")\n",
    "print(\"your username:{} and password entered is:{}\".format(name,password))\n",
    "print(\"your username:\",name,\" and password entered is\",password)"
   ]
  },
  {
   "cell_type": "markdown",
   "id": "203416ee",
   "metadata": {},
   "source": [
    "### For loop"
   ]
  },
  {
   "cell_type": "code",
   "execution_count": 22,
   "id": "a8e150c3",
   "metadata": {},
   "outputs": [
    {
     "name": "stdout",
     "output_type": "stream",
     "text": [
      "10\n",
      "11\n",
      "12\n",
      "13\n",
      "14\n",
      "15\n",
      "16\n",
      "17\n",
      "18\n",
      "19\n"
     ]
    }
   ],
   "source": [
    "for i in range(10,20,1):\n",
    "    print(i)"
   ]
  },
  {
   "cell_type": "code",
   "execution_count": 10,
   "id": "03753e78",
   "metadata": {},
   "outputs": [
    {
     "name": "stdout",
     "output_type": "stream",
     "text": [
      "Enter n:3\n",
      "12\n"
     ]
    }
   ],
   "source": [
    "#Find the sum of n multiples of 2 where n is the use input\n",
    "n=int(input(\"Enter n:\"))\n",
    "sum = 0\n",
    "for i in range(2,2*(n+1),2):\n",
    "    sum = sum+i\n",
    "print(sum)"
   ]
  },
  {
   "cell_type": "markdown",
   "id": "8cdf2b64",
   "metadata": {},
   "source": [
    "### List"
   ]
  },
  {
   "cell_type": "code",
   "execution_count": 11,
   "id": "43c77a7e",
   "metadata": {},
   "outputs": [],
   "source": [
    "#Combination of strings\n",
    "nlsit = [\"abc\",\"123\",56,13]"
   ]
  },
  {
   "cell_type": "markdown",
   "id": "784a5cd2",
   "metadata": {},
   "source": [
    "# LECTURE 4"
   ]
  },
  {
   "cell_type": "code",
   "execution_count": 9,
   "id": "42bfa8a6",
   "metadata": {},
   "outputs": [
    {
     "name": "stdout",
     "output_type": "stream",
     "text": [
      "four\n"
     ]
    }
   ],
   "source": [
    "listex = ['one', 'two', 'three', 'four']\n",
    "print(listex[3])"
   ]
  },
  {
   "cell_type": "code",
   "execution_count": 4,
   "id": "43747a57",
   "metadata": {},
   "outputs": [
    {
     "name": "stdout",
     "output_type": "stream",
     "text": [
      "sucess\n"
     ]
    }
   ],
   "source": [
    "if \"three\" in listex:\n",
    "    print(\"sucess\")"
   ]
  },
  {
   "cell_type": "code",
   "execution_count": 7,
   "id": "dcd75674",
   "metadata": {},
   "outputs": [
    {
     "name": "stdout",
     "output_type": "stream",
     "text": [
      "['one', 'two', 'three', 'four']\n"
     ]
    }
   ],
   "source": [
    "print(listex)"
   ]
  },
  {
   "cell_type": "code",
   "execution_count": 14,
   "id": "6259c28a",
   "metadata": {},
   "outputs": [
    {
     "name": "stdout",
     "output_type": "stream",
     "text": [
      "['seven', 'seven', 'seven', 'one', 'two', 'three', 'four', 'six', 'six', 'six']\n"
     ]
    }
   ],
   "source": [
    "#Append is a function used to add an element\n",
    "listex.append('six')\n",
    "listex.insert(0,'seven')\n",
    "listex.remove('s')\n",
    "print(listex)"
   ]
  },
  {
   "cell_type": "code",
   "execution_count": 20,
   "id": "c4f7641a",
   "metadata": {},
   "outputs": [
    {
     "data": {
      "text/plain": [
       "'one'"
      ]
     },
     "execution_count": 20,
     "metadata": {},
     "output_type": "execute_result"
    }
   ],
   "source": [
    "#pop is a function to remove an element. By default last element will get removed or else index should be mentioned in ()\n",
    "listex.pop(0)"
   ]
  },
  {
   "cell_type": "code",
   "execution_count": 26,
   "id": "d80660e4",
   "metadata": {},
   "outputs": [
    {
     "name": "stdout",
     "output_type": "stream",
     "text": [
      "['four', 'six', 'three', 'two']\n",
      "['two', 'three', 'six', 'four']\n"
     ]
    }
   ],
   "source": [
    "#Sort function helps to sort the list and reverse function will reverse the list\n",
    "listex.sort()\n",
    "print(listex)\n",
    "listex.reverse()\n",
    "print(listex)"
   ]
  },
  {
   "cell_type": "markdown",
   "id": "df27419a",
   "metadata": {},
   "source": [
    "### Functions"
   ]
  },
  {
   "cell_type": "code",
   "execution_count": 16,
   "id": "9574620b",
   "metadata": {},
   "outputs": [
    {
     "name": "stdout",
     "output_type": "stream",
     "text": [
      "I am your first function..\n"
     ]
    }
   ],
   "source": [
    "##defining the function and Calling the function\n",
    "#This is without parameter and not returning value\n",
    "\n",
    "def fname(): \n",
    "    print(\"I am your first function..\")\n",
    "fname() "
   ]
  },
  {
   "cell_type": "code",
   "execution_count": 22,
   "id": "9459c462",
   "metadata": {},
   "outputs": [
    {
     "name": "stdout",
     "output_type": "stream",
     "text": [
      "I am your first function..\n"
     ]
    },
    {
     "data": {
      "text/plain": [
       "('sucess', True)"
      ]
     },
     "execution_count": 22,
     "metadata": {},
     "output_type": "execute_result"
    }
   ],
   "source": [
    "def fname(): \n",
    "    print(\"I am your first function..\")\n",
    "    retVal = (\"sucess\")\n",
    "    return retVal, True\n",
    "fname()\n",
    "#print(status)"
   ]
  },
  {
   "cell_type": "code",
   "execution_count": 18,
   "id": "bf63a155",
   "metadata": {},
   "outputs": [
    {
     "name": "stdout",
     "output_type": "stream",
     "text": [
      "I am your first function..\n",
      "sucess True\n"
     ]
    }
   ],
   "source": [
    "status, flag = fname()\n",
    "print(status, flag)"
   ]
  },
  {
   "cell_type": "code",
   "execution_count": 21,
   "id": "aaca320e",
   "metadata": {},
   "outputs": [
    {
     "name": "stdout",
     "output_type": "stream",
     "text": [
      "I am your first function.. Ardra\n",
      "sucess True\n"
     ]
    }
   ],
   "source": [
    "#Functions with parameter\n",
    "def fname(n): \n",
    "    print(\"I am your first function..\",n)\n",
    "    retVal = (\"sucess\")\n",
    "    return retVal,True\n",
    "name=\"Ardra\"\n",
    "status,flag=fname(name)\n",
    "print(status,flag)"
   ]
  },
  {
   "cell_type": "markdown",
   "id": "c4ad1cfa",
   "metadata": {},
   "source": [
    "# LECTURE 5"
   ]
  },
  {
   "cell_type": "code",
   "execution_count": 16,
   "id": "309e6846",
   "metadata": {},
   "outputs": [
    {
     "data": {
      "text/plain": [
       "6"
      ]
     },
     "execution_count": 16,
     "metadata": {},
     "output_type": "execute_result"
    }
   ],
   "source": [
    "#Define a function that takes alist of numbers as input and return the sum of numbers, without any pre-defined functions.\n",
    "\n",
    "lst = [1,2,3]\n",
    "def sumlist(lst):\n",
    "    sum = 0\n",
    "    for item in lst:\n",
    "        sum = sum+item\n",
    "    return sum\n",
    "sumlist(lst)\n",
    "\n",
    "    "
   ]
  },
  {
   "cell_type": "code",
   "execution_count": 24,
   "id": "ed1f23f4",
   "metadata": {},
   "outputs": [
    {
     "name": "stdout",
     "output_type": "stream",
     "text": [
      "['1', '2', '3', '4', '5', '6', '7']\n"
     ]
    },
    {
     "data": {
      "text/plain": [
       "28"
      ]
     },
     "execution_count": 24,
     "metadata": {},
     "output_type": "execute_result"
    }
   ],
   "source": [
    "lst = input(\"Enter coma sep value\")\n",
    "new = lst.split(',')\n",
    "print(new)\n",
    "newlst = []\n",
    "for item in new:\n",
    "    newlst.append(int(item))\n",
    "def sumlst(newlst):\n",
    "    sum = 0\n",
    "    for item in newlst:\n",
    "        sum = sum+item\n",
    "    return sum\n",
    "sumlst(newlst)\n"
   ]
  },
  {
   "cell_type": "code",
   "execution_count": 26,
   "id": "105f0737",
   "metadata": {},
   "outputs": [
    {
     "name": "stdout",
     "output_type": "stream",
     "text": [
      "15\n"
     ]
    }
   ],
   "source": [
    "lst1 = input(\"enter the comma saperated values\")\n",
    "newLst1 = lst1.split(',')\n",
    "sum = 0\n",
    "for item in newLst1:\n",
    "    sum = sum + int(item)\n",
    "print(sum)\n"
   ]
  },
  {
   "cell_type": "code",
   "execution_count": 28,
   "id": "69317c49",
   "metadata": {},
   "outputs": [
    {
     "name": "stdout",
     "output_type": "stream",
     "text": [
      "[1, 3, 4, 5]\n"
     ]
    }
   ],
   "source": [
    "lst=[1,2,3,4,5]\n",
    "lst.pop(1)\n",
    "print(lst)"
   ]
  },
  {
   "cell_type": "code",
   "execution_count": 29,
   "id": "d1fee74a",
   "metadata": {},
   "outputs": [
    {
     "name": "stdout",
     "output_type": "stream",
     "text": [
      "Enter the list of numbers saperated by comma1,2,4\n",
      "Sum:  7\n"
     ]
    }
   ],
   "source": [
    "def sumList(lst):\n",
    "    sum = 0\n",
    "    #Logic to sum the numbers in thes list\n",
    "    for item in lst:\n",
    "        sum+= int(item)\n",
    "    return sum\n",
    "\n",
    "userInput = input(\"Enter the list of numbers saperated by comma\")\n",
    "array = userInput.strip().split(',')\n",
    "sum = sumList(array)\n",
    "print(\"Sum: \",sum)"
   ]
  },
  {
   "cell_type": "code",
   "execution_count": 1,
   "id": "33970e04",
   "metadata": {},
   "outputs": [
    {
     "name": "stdout",
     "output_type": "stream",
     "text": [
      "[1, 5, 4, 3, 5]\n",
      "Even list is: [4]\n",
      "Odd list is [1, 5, 3, 5]\n",
      "Count of odd is: 4\n",
      "count of Even is: 1\n"
     ]
    }
   ],
   "source": [
    "#count the number odd and even numbers in the list and print the odd numbers count and even numbers count \n",
    "#along with the numbers\n",
    "\n",
    "#You will have a function that will take a list of numbers, that returns the count of odd numbers and even numbers\n",
    "#and the new list of odd numbers and even numbers.\n",
    "def numbers(NumLst):\n",
    "    Even = []\n",
    "    odd = []\n",
    "    for item in NumLst:\n",
    "        if item %2 ==0:\n",
    "            Even.append(item)\n",
    "        else:\n",
    "            odd.append(item)\n",
    "    print(\"Even list is:\",Even)\n",
    "    print(\"Odd list is\",odd)\n",
    "    print(\"Count of odd is:\",len(odd))\n",
    "    print(\"count of Even is:\",len(Even))\n",
    "\n",
    "NumLst = []\n",
    "n = int(input(\"Enter the number of numbers:\"))\n",
    "for i in range(n):\n",
    "    inp = int(input(\"Enter numbers\"))\n",
    "    NumLst.append(inp)\n",
    "print(NumLst)\n",
    "\n",
    "numbers(NumLst)\n",
    "\n"
   ]
  },
  {
   "cell_type": "markdown",
   "id": "d68d37dc",
   "metadata": {},
   "source": [
    "# Lecture 6"
   ]
  },
  {
   "cell_type": "code",
   "execution_count": 22,
   "id": "c1f01c1d",
   "metadata": {},
   "outputs": [],
   "source": [
    "#Open(\"file name\", \"mode in which you can access the file\") is afunction used to open some file. \n",
    "file=open(\"sample.txt\",\"w+\")\n"
   ]
  },
  {
   "cell_type": "code",
   "execution_count": 25,
   "id": "56ebaffb",
   "metadata": {},
   "outputs": [
    {
     "data": {
      "text/plain": [
       "42"
      ]
     },
     "execution_count": 25,
     "metadata": {},
     "output_type": "execute_result"
    }
   ],
   "source": [
    "file.write(\"this is my first line to file from python\\n\")"
   ]
  },
  {
   "cell_type": "code",
   "execution_count": 26,
   "id": "9dd02629",
   "metadata": {},
   "outputs": [],
   "source": [
    "file.close()"
   ]
  },
  {
   "cell_type": "code",
   "execution_count": 29,
   "id": "9be233cc",
   "metadata": {},
   "outputs": [
    {
     "data": {
      "text/plain": [
       "'this is my first line to file from python\\n'"
      ]
     },
     "execution_count": 29,
     "metadata": {},
     "output_type": "execute_result"
    }
   ],
   "source": [
    "file = open(\"sample.txt\",\"r+\")\n",
    "file.readline()"
   ]
  },
  {
   "cell_type": "code",
   "execution_count": 30,
   "id": "0b107bac",
   "metadata": {},
   "outputs": [
    {
     "data": {
      "text/plain": [
       "['this is my first line to file from python\\n',\n",
       " 'this is my first line to file from python\\n']"
      ]
     },
     "execution_count": 30,
     "metadata": {},
     "output_type": "execute_result"
    }
   ],
   "source": [
    "file.readlines()"
   ]
  },
  {
   "cell_type": "code",
   "execution_count": null,
   "id": "708a7df8",
   "metadata": {},
   "outputs": [],
   "source": [
    "#Write a function that accepts your details and save it into file with your name"
   ]
  },
  {
   "cell_type": "code",
   "execution_count": 41,
   "id": "614d5f30",
   "metadata": {},
   "outputs": [
    {
     "name": "stdout",
     "output_type": "stream",
     "text": [
      "Name:Ardra\n",
      "Age:22\n"
     ]
    }
   ],
   "source": [
    "Name = str(input(\"Name:\"))\n",
    "Age = str(input(\"Age:\"))\n",
    "def details(Name,Age):\n",
    "    file = open(\"Ardra1.txt\",\"w+\")\n",
    "    file.write(Name)\n",
    "    file.write(Age)\n",
    "    file.close()\n",
    "details(Name,Age)\n"
   ]
  },
  {
   "cell_type": "code",
   "execution_count": 5,
   "id": "f06facce",
   "metadata": {},
   "outputs": [
    {
     "name": "stdout",
     "output_type": "stream",
     "text": [
      "Enter your Name:ardra\n",
      "Enter your Email:asdfgh@gmail.com\n",
      "Enter your Phone:12345678\n"
     ]
    }
   ],
   "source": [
    "def saveDetails(name,email,phone):\n",
    "    filename = name+\".txt\"\n",
    "    with open(\"filename.txt\",\"w+\") as file:\n",
    "        file.write(\"name\\t:\\t\"+name)\n",
    "        file.write(\"\\nemail\\t:\\t\"+email)\n",
    "        file.write(\"\\nPhone\\t:\\t\"+phone)\n",
    "\n",
    "user_name = input(\"Enter your Name:\")\n",
    "user_email = input(\"Enter your Email:\")\n",
    "user_phone = input(\"Enter your Phone:\")\n",
    "\n",
    "saveDetails(user_name,user_email,user_phone)"
   ]
  },
  {
   "cell_type": "code",
   "execution_count": 14,
   "id": "336030ca",
   "metadata": {},
   "outputs": [
    {
     "name": "stdout",
     "output_type": "stream",
     "text": [
      "a=2\n",
      "b=4\n",
      "operator =\"add\"\n",
      "no such opeartor\n"
     ]
    }
   ],
   "source": [
    "#Write a python program that will take two operants and an operator and performs the calculation and gives the result.\n",
    "#Also save the calculations that your program performs in a file\n",
    "\n",
    "a=int(input(\"a=\"))\n",
    "b=int(input(\"b=\"))\n",
    "operator = input(\"operator =\")\n",
    "operator = [\"add\",\"subract\",\"multiply\",\"divide\",\"modulus\"]\n",
    "def operation(a,b, operator):\n",
    "    if operator ==\"add\":\n",
    "        a+b\n",
    "    elif operator == \"multiply\":\n",
    "        a*b\n",
    "    elif operator == \"divide\":\n",
    "        a/b\n",
    "    elif operator == \"modulus\":\n",
    "        a%b\n",
    "    elif operator == \"subract\":\n",
    "        a-b\n",
    "    else:\n",
    "        print(\"no such opeartor\")\n",
    "operation(a,b, operator)\n",
    "    \n",
    "        \n",
    "        \n"
   ]
  },
  {
   "cell_type": "markdown",
   "id": "c4c9e941",
   "metadata": {},
   "source": [
    "# Lecture 8"
   ]
  },
  {
   "cell_type": "markdown",
   "id": "cd55427a",
   "metadata": {},
   "source": [
    "### While Loop"
   ]
  },
  {
   "cell_type": "code",
   "execution_count": 1,
   "id": "d85b8e82",
   "metadata": {},
   "outputs": [],
   "source": [
    "#While loop\n",
    "\n",
    "#while condition:\n",
    "    #code block"
   ]
  },
  {
   "cell_type": "code",
   "execution_count": 3,
   "id": "35187289",
   "metadata": {},
   "outputs": [
    {
     "name": "stdout",
     "output_type": "stream",
     "text": [
      "0 0\n",
      "1 1\n",
      "2 4\n",
      "3 9\n",
      "4 16\n",
      "5 25\n",
      "6 36\n"
     ]
    }
   ],
   "source": [
    "a = 0\n",
    "while a<7:\n",
    "    res = a*a\n",
    "    print(a,res)\n",
    "    a=a+1"
   ]
  },
  {
   "cell_type": "markdown",
   "id": "f5268057",
   "metadata": {},
   "source": [
    "### Break and Continue"
   ]
  },
  {
   "cell_type": "code",
   "execution_count": 8,
   "id": "3ce504e1",
   "metadata": {},
   "outputs": [
    {
     "name": "stdout",
     "output_type": "stream",
     "text": [
      "1\n",
      "2\n",
      "3\n",
      "4\n",
      "5\n",
      "6\n"
     ]
    }
   ],
   "source": [
    "for i in range(1,10,1):\n",
    "    if i ==7:\n",
    "        break\n",
    "    print(i)"
   ]
  },
  {
   "cell_type": "code",
   "execution_count": 11,
   "id": "8d94b9d7",
   "metadata": {},
   "outputs": [
    {
     "name": "stdout",
     "output_type": "stream",
     "text": [
      "1\n",
      "2\n",
      "3\n",
      "4\n",
      "5\n",
      "6\n",
      "8\n",
      "9\n"
     ]
    }
   ],
   "source": [
    "for i in range(1,10,1):\n",
    "    if i ==7:\n",
    "        continue\n",
    "    print(i)"
   ]
  },
  {
   "cell_type": "markdown",
   "id": "8f727c77",
   "metadata": {},
   "source": [
    "### Set"
   ]
  },
  {
   "cell_type": "code",
   "execution_count": 12,
   "id": "28e7f5b1",
   "metadata": {},
   "outputs": [],
   "source": [
    "#set only stores unique values\n",
    "#we can't access values using index"
   ]
  },
  {
   "cell_type": "code",
   "execution_count": 18,
   "id": "7c4e4d0c",
   "metadata": {},
   "outputs": [
    {
     "name": "stdout",
     "output_type": "stream",
     "text": [
      "['ABC', 'EDF', 'ABC', 'DEF', 'BCD', 'NBG', 'FGT']\n",
      "{'FGT', 'BCD', 'NBG', 'EDF', 'DEF', 'ABC'}\n",
      "['FGT', 'BCD', 'NBG', 'EDF', 'DEF', 'ABC']\n",
      "<class 'list'>\n",
      "<class 'set'>\n",
      "<class 'list'>\n"
     ]
    }
   ],
   "source": [
    "list_ex = [\"ABC\",\"EDF\",\"ABC\",\"DEF\",\"BCD\",\"NBG\",\"FGT\"]\n",
    "set_ex = set(list_ex)\n",
    "back = list(set_ex)\n",
    "print(list_ex)\n",
    "print(set_ex)\n",
    "print(back)\n",
    "print(type(list_ex))\n",
    "print(type(set_ex))\n",
    "print(type(back))"
   ]
  },
  {
   "cell_type": "code",
   "execution_count": 19,
   "id": "9ae7da1b",
   "metadata": {},
   "outputs": [],
   "source": [
    "#Create a list of names that are random and repeating from the user\n",
    "#identify the unique items and their count"
   ]
  },
  {
   "cell_type": "code",
   "execution_count": 2,
   "id": "81885cc5",
   "metadata": {},
   "outputs": [
    {
     "name": "stdout",
     "output_type": "stream",
     "text": [
      "Enter the number of names: 3\n",
      "Enter the names: a\n",
      "Enter the names: b\n",
      "Enter the names: a\n",
      "['A', 'B', 'A']\n"
     ]
    }
   ],
   "source": [
    "names = []\n",
    "n= int(input(\"Enter the number of names: \"))\n",
    "for i in range(0,n):\n",
    "    name = input(\"Enter the names: \")\n",
    "    name = name.strip()\n",
    "    name = name.upper()\n",
    "    names.append(name)\n",
    "print(names)\n",
    "\n"
   ]
  },
  {
   "cell_type": "code",
   "execution_count": 30,
   "id": "91d7c99f",
   "metadata": {},
   "outputs": [
    {
     "name": "stdout",
     "output_type": "stream",
     "text": [
      "{'NANDHU', 'ARDRA'}\n"
     ]
    }
   ],
   "source": [
    "unique_name = set(names)\n",
    "print(unique_name)"
   ]
  },
  {
   "cell_type": "code",
   "execution_count": 32,
   "id": "1de3b41c",
   "metadata": {},
   "outputs": [
    {
     "name": "stdout",
     "output_type": "stream",
     "text": [
      "NANDHU 1\n",
      "ARDRA 2\n"
     ]
    }
   ],
   "source": [
    "#to count each name\n",
    "for search in unique_name:\n",
    "    count = 0\n",
    "    for item in names:\n",
    "        if search == item:\n",
    "            count = count+1\n",
    "    print(search,count)\n",
    "    "
   ]
  },
  {
   "cell_type": "markdown",
   "id": "4f1dab3a",
   "metadata": {},
   "source": [
    "### Dictionary"
   ]
  },
  {
   "cell_type": "code",
   "execution_count": null,
   "id": "efbc92ab",
   "metadata": {},
   "outputs": [],
   "source": [
    "#Key value pairs. pairs are saperated by commas. No concept of index. \n",
    "#if we want to extract a value, call it by keyname. if you want to change the value of a key, we can assign accordingly"
   ]
  },
  {
   "cell_type": "code",
   "execution_count": 2,
   "id": "6c815f15",
   "metadata": {},
   "outputs": [],
   "source": [
    "my_dict = {\n",
    "    \"Name\":\"Ardra Sukumaran\",\n",
    "    \"phone\": 9207642847,\n",
    "    \"email\":\"ardra.ks@msds.christuniversity.in\",\n",
    "    \n",
    "}"
   ]
  },
  {
   "cell_type": "code",
   "execution_count": 5,
   "id": "44370ecd",
   "metadata": {},
   "outputs": [
    {
     "name": "stdout",
     "output_type": "stream",
     "text": [
      "Ardra Sukumaran\n"
     ]
    }
   ],
   "source": [
    "print(my_dict[\"Name\"])"
   ]
  },
  {
   "cell_type": "code",
   "execution_count": 8,
   "id": "6f8bfd74",
   "metadata": {},
   "outputs": [
    {
     "name": "stdout",
     "output_type": "stream",
     "text": [
      "{'Name': 'Ardra Suku', 'phone': 9207642847, 'email': 'ardra.ks@msds.christuniversity.in'}\n"
     ]
    }
   ],
   "source": [
    "my_dict[\"Name\"] = \"Ardra Suku\"\n",
    "print(my_dict)"
   ]
  },
  {
   "cell_type": "code",
   "execution_count": 9,
   "id": "028de41d",
   "metadata": {},
   "outputs": [],
   "source": [
    "#If you want to add a new key to the dictionary"
   ]
  },
  {
   "cell_type": "code",
   "execution_count": 12,
   "id": "7dc69199",
   "metadata": {},
   "outputs": [
    {
     "name": "stdout",
     "output_type": "stream",
     "text": [
      "{'Name': 'Ardra Suku', 'phone': 9207642847, 'email': 'ardra.ks@msds.christuniversity.in', 'Address': 'CHRIST (Deemed to be University)'}\n"
     ]
    }
   ],
   "source": [
    "my_dict[\"Address\"] = \"CHRIST (Deemed to be University)\"\n",
    "print(my_dict)"
   ]
  },
  {
   "cell_type": "code",
   "execution_count": 14,
   "id": "a6350d0d",
   "metadata": {},
   "outputs": [
    {
     "data": {
      "text/plain": [
       "dict_keys(['Name', 'phone', 'email', 'Address'])"
      ]
     },
     "execution_count": 14,
     "metadata": {},
     "output_type": "execute_result"
    }
   ],
   "source": [
    "my_dict.keys()"
   ]
  },
  {
   "cell_type": "code",
   "execution_count": 16,
   "id": "c7750630",
   "metadata": {},
   "outputs": [
    {
     "data": {
      "text/plain": [
       "dict_values(['Ardra Suku', 9207642847, 'ardra.ks@msds.christuniversity.in', 'CHRIST (Deemed to be University)'])"
      ]
     },
     "execution_count": 16,
     "metadata": {},
     "output_type": "execute_result"
    }
   ],
   "source": [
    "my_dict.values()"
   ]
  },
  {
   "cell_type": "code",
   "execution_count": 18,
   "id": "6dd8a8f8",
   "metadata": {},
   "outputs": [
    {
     "name": "stdout",
     "output_type": "stream",
     "text": [
      "Name\n",
      "phone\n",
      "email\n",
      "Address\n"
     ]
    }
   ],
   "source": [
    "for key in my_dict.keys():\n",
    "    print(key)"
   ]
  },
  {
   "cell_type": "code",
   "execution_count": 23,
   "id": "511a8321",
   "metadata": {},
   "outputs": [
    {
     "name": "stdout",
     "output_type": "stream",
     "text": [
      "Ardra Suku\n",
      "9207642847\n",
      "ardra.ks@msds.christuniversity.in\n",
      "CHRIST (Deemed to be University)\n"
     ]
    }
   ],
   "source": [
    "for value in my_dict.values():\n",
    "    print(value)"
   ]
  },
  {
   "cell_type": "code",
   "execution_count": 28,
   "id": "887339fc",
   "metadata": {},
   "outputs": [
    {
     "name": "stdout",
     "output_type": "stream",
     "text": [
      "Ardra\n",
      "Sona\n",
      "Ajith\n",
      "Anushka\n",
      "Soja\n",
      "Anudarsh\n"
     ]
    }
   ],
   "source": [
    "students = {\n",
    "    \"Names\": [\"Ardra\", \"Sona\",\"Ajith\",\"Anushka\",\"Soja\",\"Anudarsh\"],\n",
    "    \"RollNumbers\": [1,2,3,4,5,6] \n",
    "}\n",
    "for Name in students[\"Names\"]:\n",
    "    print(Name)"
   ]
  },
  {
   "cell_type": "code",
   "execution_count": 30,
   "id": "4b44fa91",
   "metadata": {},
   "outputs": [
    {
     "name": "stdout",
     "output_type": "stream",
     "text": [
      "Ajith\n"
     ]
    }
   ],
   "source": [
    "#To access one particular name\n",
    "print(students[\"Names\"][2])"
   ]
  },
  {
   "cell_type": "code",
   "execution_count": 29,
   "id": "263cdfe5",
   "metadata": {},
   "outputs": [],
   "source": [
    "#To store many details in dictionary\n",
    "MSDS = [\n",
    "    {\n",
    "        \"RollNumber\":23122101,\n",
    "        \"Name\": \"Aadith\",\n",
    "        \"email\": \"aadi@christ.in\",\n",
    "        \"phone\": 9012345567\n",
    "    },\n",
    "    {\n",
    "        \"RollNumber\":23122102,\n",
    "        \"Name\": \"Ardra\",\n",
    "        \"email\": \"ardra@christ.in\",\n",
    "        \"phone\": 901289754\n",
    "    },\n",
    "    {\n",
    "        \"RollNumber\":23122103,\n",
    "        \"Name\": \"Devika\",\n",
    "        \"email\": \"devu@christ.in\",\n",
    "        \"phone\": 904567890\n",
    "    },\n",
    "    {\n",
    "        \"RollNumber\":23122104,\n",
    "        \"Name\": \"Gokul\",\n",
    "        \"email\": \"gokul@christ.in\",\n",
    "        \"phone\": 90123456789\n",
    "    },\n",
    "    {\n",
    "        \"RollNumber\":23122105,\n",
    "        \"Name\": \"Nandhana\",\n",
    "        \"email\": \"nandhu@christ.in\",\n",
    "        \"phone\": 9234567878\n",
    "    },\n",
    "    {\n",
    "        \"RollNumber\":23122106,\n",
    "        \"Name\": \"Riya\",\n",
    "        \"email\": \"Riya@christ.in\",\n",
    "        \"phone\": 90567890\n",
    "    }\n",
    "]"
   ]
  },
  {
   "cell_type": "code",
   "execution_count": 30,
   "metadata": {},
   "outputs": [
    {
     "name": "stdout",
     "output_type": "stream",
     "text": [
      "[{'RollNumber': 23122101, 'Name': 'Aadith', 'email': 'aadi@christ.in', 'phone': 9012345567}, {'RollNumber': 23122102, 'Name': 'Ardra', 'email': 'ardra@christ.in', 'phone': 901289754}, {'RollNumber': 23122103, 'Name': 'Devika', 'email': 'devu@christ.in', 'phone': 904567890}, {'RollNumber': 23122104, 'Name': 'Gokul', 'email': 'gokul@christ.in', 'phone': 90123456789}, {'RollNumber': 23122105, 'Name': 'Nandhana', 'email': 'nandhu@christ.in', 'phone': 9234567878}, {'RollNumber': 23122106, 'Name': 'Riya', 'email': 'Riya@christ.in', 'phone': 90567890}]\n"
     ]
    }
   ],
   "source": [
    "print(MSDS)"
   ]
  },
  {
   "cell_type": "code",
   "execution_count": 35,
   "id": "4d60ddfa",
   "metadata": {},
   "outputs": [
    {
     "name": "stdout",
     "output_type": "stream",
     "text": [
      "{'RollNumber': 23122101, 'Name': 'Aadith', 'email': 'aadi@christ.in', 'phone': 9012345567}\n",
      "{'RollNumber': 23122102, 'Name': 'Ardra', 'email': 'ardra@christ.in', 'phone': 901289754}\n",
      "{'RollNumber': 23122103, 'Name': 'Devika', 'email': 'devu@christ.in', 'phone': 904567890}\n",
      "{'RollNumber': 23122104, 'Name': 'Gokul', 'email': 'gokul@christ.in', 'phone': 90123456789}\n",
      "{'RollNumber': 23122105, 'Name': 'Nandhana', 'email': 'nandhu@christ.in', 'phone': 9234567878}\n",
      "{'RollNumber': 23122106, 'Name': 'Riya', 'email': 'Riya@christ.in', 'phone': 90567890}\n"
     ]
    }
   ],
   "source": [
    "for student in MSDS:\n",
    "    print(student)"
   ]
  },
  {
   "cell_type": "code",
   "execution_count": 35,
   "id": "09db8f4f",
   "metadata": {},
   "outputs": [
    {
     "name": "stdout",
     "output_type": "stream",
     "text": [
      "23122101\tAadith\taadi@christ.in\t9012345567\t\n",
      "23122102\tArdra\tardra@christ.in\t901289754\t\n",
      "23122103\tDevika\tdevu@christ.in\t904567890\t\n",
      "23122104\tGokul\tgokul@christ.in\t90123456789\t\n",
      "23122105\tNandhana\tnandhu@christ.in\t9234567878\t\n",
      "23122106\tRiya\tRiya@christ.in\t90567890\t\n"
     ]
    }
   ],
   "source": [
    "for student in MSDS:\n",
    "    for key in student.keys():\n",
    "        print(student[key],end =\"\\t\")\n",
    "    print()"
   ]
  },
  {
   "cell_type": "markdown",
   "id": "a5ad2159",
   "metadata": {},
   "source": [
    "#LECTURE 9"
   ]
  },
  {
   "cell_type": "markdown",
   "id": "1c220fd5",
   "metadata": {},
   "source": [
    "Create a menu driven program that collects student details\n",
    "name\n",
    "email\n",
    "phone\n",
    "use dictionary to store student details\n",
    "\n",
    "menu options:\n",
    "1. create students\n",
    "2. Search for students\n",
    "3. Print students"
   ]
  },
  {
   "cell_type": "code",
   "execution_count": null,
   "id": "de489faa",
   "metadata": {},
   "outputs": [
    {
     "name": "stdout",
     "output_type": "stream",
     "text": [
      "Menu options\n",
      "1. Enter student info\n",
      "3.Exit\n",
      "Menu options\n",
      "1. Enter student info\n",
      "3.Exit\n",
      "{'RollNumber': 23122106, 'Name': 'Riya', 'email': 'Riya@christ.in', 'phone': 90567890}\n",
      "Menu options\n",
      "1. Enter student info\n",
      "3.Exit\n",
      "invalid choice\n",
      "Menu options\n",
      "1. Enter student info\n",
      "3.Exit\n",
      "Menu options\n",
      "1. Enter student info\n",
      "3.Exit\n",
      "{'RollNumber': 23122106, 'Name': 'Riya', 'email': 'Riya@christ.in', 'phone': 90567890}\n",
      "Menu options\n",
      "1. Enter student info\n",
      "3.Exit\n",
      "Menu options\n",
      "1. Enter student info\n",
      "3.Exit\n",
      "Menu options\n",
      "1. Enter student info\n",
      "3.Exit\n",
      "Menu options\n",
      "1. Enter student info\n",
      "3.Exit\n"
     ]
    },
    {
     "ename": "",
     "evalue": "",
     "output_type": "error",
     "traceback": [
      "\u001b[1;31mThe Kernel crashed while executing code in the the current cell or a previous cell. Please review the code in the cell(s) to identify a possible cause of the failure. Click <a href='https://aka.ms/vscodeJupyterKernelCrash'>here</a> for more info. View Jupyter <a href='command:jupyter.viewOutput'>log</a> for further details."
     ]
    }
   ],
   "source": [
    "# studentDict={}\n",
    "\n",
    "# #to store the details in the form of dictionary\n",
    "# def createStudent(name,regno,email, phone):\n",
    "#     student = {\n",
    "#         \"Name\":name,\n",
    "#         \"Email\": email,\n",
    "#         \"Phone\": phone\n",
    "#     }\n",
    "#     studentDict[regno] = student\n",
    "\n",
    "# #to collect details from user\n",
    "# def details():\n",
    "#     Name = input(\"Enter the name:\")\n",
    "#     regno = input(\"Enter the regno:\")\n",
    "#     email = input(\"Enter the email:\")\n",
    "#     phone = input(\"Enter the ph\")\n",
    "#     return Name, regno, email, phone\n",
    "\n",
    "# #to print the details\n",
    "\n",
    "# def printDetails():\n",
    "#     print(\"Regno\\tName\\temail\\tphone\")\n",
    "#     #extracting regno \n",
    "#     for regno in studentDict.keys():\n",
    "#         print(regno,end=\"\\t\") #to print horizontally\n",
    "#         for key in studentDict[regno]:\n",
    "#             print(studentDict[regno][key],end = \"\\t\")\n",
    "#         print()\n",
    "\n",
    "# while True:\n",
    "#     print(\"Menu options\")\n",
    "#     print(\"1. Enter student info\" )\n",
    "#     print(\"3.Exit\")\n",
    "\n",
    "#     choice = input(\"Enter the choice\").strip()\n",
    "#     if choice == \"1\":\n",
    "#         name, regno, email, phone = details()\n",
    "#         createStudent(name, regno, email, phone)\n",
    "#     elif choice ==\"2\":\n",
    "#         print(student)\n",
    "#     elif choice ==\"3\":\n",
    "#         exit()\n",
    "#     else:\n",
    "#         print(\"invalid choice\")\n",
    "\n",
    "\n",
    "\n",
    "\n"
   ]
  },
  {
   "cell_type": "markdown",
   "id": "326024ae",
   "metadata": {},
   "source": [
    "#### LECTURE 10"
   ]
  },
  {
   "cell_type": "markdown",
   "id": "d5febbf9",
   "metadata": {},
   "source": [
    "##### CLASSES"
   ]
  },
  {
   "cell_type": "code",
   "execution_count": 1,
   "id": "2c80129a",
   "metadata": {},
   "outputs": [
    {
     "name": "stdout",
     "output_type": "stream",
     "text": [
      "Menu Options\n",
      "1. Enter Student Info\n",
      "2. List Students\n",
      "3. Exit\n",
      "Invalid Choice\n",
      "Menu Options\n",
      "1. Enter Student Info\n",
      "2. List Students\n",
      "3. Exit\n"
     ]
    },
    {
     "ename": "",
     "evalue": "",
     "output_type": "error",
     "traceback": [
      "\u001b[1;31mThe Kernel crashed while executing code in the the current cell or a previous cell. Please review the code in the cell(s) to identify a possible cause of the failure. Click <a href='https://aka.ms/vscodeJupyterKernelCrash'>here</a> for more info. View Jupyter <a href='command:jupyter.viewOutput'>log</a> for further details."
     ]
    }
   ],
   "source": [
    "# Create a menu driven program that collects students details\n",
    "# > Name, Register Number, Email & Phone\n",
    "# [Use dictionary to store student details]\n",
    "\n",
    "# Menu Options\n",
    "# 1. Create Students\n",
    "# 2. Search for Students\n",
    "# 3. Print Students\n",
    "\n",
    "studentDict = {}\n",
    "\n",
    "def createStudent(name,regno,email,phone):\n",
    "    student = {\n",
    "        \"Name\" : name,\n",
    "        \"Email\" : email,\n",
    "        \"Phone\" : phone\n",
    "    }\n",
    "\n",
    "    studentDict[regno] = student\n",
    "\n",
    "def colletStudentInfo():\n",
    "    name = input(\"Enter Student Name: \")\n",
    "    regno = input(\"Enter Student regno: \")\n",
    "    email = input(\"Enter Student Email: \")\n",
    "    phone = input(\"Enter Student Phone: \")\n",
    "    return name, regno, email, phone\n",
    "\n",
    "def printStudents():\n",
    "    print(\"Regno\\tName\\tEmail\\tPhone\")\n",
    "    for regno in studentDict.keys():\n",
    "        print(regno,end=\"\\t\")\n",
    "        for key in studentDict[regno]:\n",
    "            print(studentDict[regno][key],end='\\t')\n",
    "        print()\n",
    "\n",
    "while True:\n",
    "    print(\"Menu Options\")\n",
    "    print(\"1. Enter Student Info\")\n",
    "    print(\"2. List Students\")\n",
    "    print(\"3. Exit\")\n",
    "\n",
    "    choice = input(\"Enter the choice\").strip()\n",
    "    if choice == \"1\":\n",
    "        name, regno, email, phone = colletStudentInfo()\n",
    "        createStudent(name, regno, email, phone)\n",
    "    elif choice == \"2\":\n",
    "        printStudents()\n",
    "    elif choice == \"3\":\n",
    "        exit()\n",
    "    else:\n",
    "        print(\"Invalid Choice\")"
   ]
  },
  {
   "cell_type": "markdown",
   "id": "a2985be5",
   "metadata": {},
   "source": [
    "### LECTURE 12"
   ]
  },
  {
   "cell_type": "markdown",
   "id": "d4a24cb0",
   "metadata": {},
   "source": [
    "##### Packages/Modules"
   ]
  },
  {
   "cell_type": "markdown",
   "id": "a619f5eb",
   "metadata": {},
   "source": [
    "To install the package we use pip. pip install pip is the syntax to install packages.\n",
    "Once a package is used, there will be dependencies which use the package for its working on the backend. for example, pandas use specific version of numpy to work. For this we use virtual environment.\n",
    "for data cleaning and data processing we usepackages like numpy and pandas. And mahplotlib is for visulaisation.These packages are deployed in the vesrion called pypi.org\n",
    "Codes of this package is available in the git.\n"
   ]
  },
  {
   "cell_type": "code",
   "execution_count": 2,
   "id": "6890c3aa",
   "metadata": {},
   "outputs": [
    {
     "name": "stdout",
     "output_type": "stream",
     "text": [
      "Requirement already satisfied: numpy in c:\\users\\ardra.ks\\appdata\\local\\programs\\python\\python310\\lib\\site-packages (1.21.4)\n",
      "Note: you may need to restart the kernel to use updated packages.\n"
     ]
    },
    {
     "name": "stderr",
     "output_type": "stream",
     "text": [
      "WARNING: You are using pip version 21.3.1; however, version 23.2.1 is available.\n",
      "You should consider upgrading via the 'c:\\Users\\Ardra.ks\\AppData\\Local\\Programs\\Python\\Python310\\python.exe -m pip install --upgrade pip' command.\n"
     ]
    }
   ],
   "source": [
    "pip install numpy"
   ]
  },
  {
   "cell_type": "code",
   "execution_count": 3,
   "id": "42b56287",
   "metadata": {},
   "outputs": [],
   "source": [
    "import numpy as np"
   ]
  },
  {
   "cell_type": "code",
   "execution_count": 9,
   "id": "bd660fb7",
   "metadata": {},
   "outputs": [
    {
     "data": {
      "text/plain": [
       "array([1., 1., 1., 1., 1., 1., 1., 1., 1., 1., 1., 1., 1., 1., 1., 1., 1.,\n",
       "       1., 1., 1., 1., 1., 1., 1., 1., 1., 1., 1., 1., 1., 1., 1., 1., 1.,\n",
       "       1., 1., 1., 1., 1., 1., 1., 1., 1., 1., 1., 1., 1., 1., 1., 1., 1.,\n",
       "       1., 1., 1., 1., 1., 1., 1., 1., 1., 1., 1., 1., 1., 1., 1., 1., 1.,\n",
       "       1., 1., 1., 1., 1., 1., 1., 1., 1., 1., 1., 1., 1., 1., 1., 1., 1.,\n",
       "       1., 1., 1., 1., 1., 1., 1., 1., 1., 1., 1., 1., 1., 1., 1.])"
      ]
     },
     "execution_count": 9,
     "metadata": {},
     "output_type": "execute_result"
    }
   ],
   "source": [
    "np.ones(100)"
   ]
  },
  {
   "cell_type": "code",
   "execution_count": 12,
   "id": "62f26414",
   "metadata": {},
   "outputs": [
    {
     "data": {
      "text/plain": [
       "array([1, 1, 1, 1, 1, 1, 1, 1, 1, 1, 1, 1, 1, 1, 1, 1, 1, 1, 1, 1, 1, 1,\n",
       "       1, 1, 1, 1, 1, 1, 1, 1, 1, 1, 1, 1, 1, 1, 1, 1, 1, 1, 1, 1, 1, 1,\n",
       "       1, 1, 1, 1, 1, 1, 1, 1, 1, 1, 1, 1, 1, 1, 1, 1, 1, 1, 1, 1, 1, 1,\n",
       "       1, 1, 1, 1, 1, 1, 1, 1, 1, 1, 1, 1, 1, 1, 1, 1, 1, 1, 1, 1, 1, 1,\n",
       "       1, 1, 1, 1, 1, 1, 1, 1, 1, 1, 1, 1])"
      ]
     },
     "execution_count": 12,
     "metadata": {},
     "output_type": "execute_result"
    }
   ],
   "source": [
    "np.ones(100,dtype=int)"
   ]
  },
  {
   "cell_type": "markdown",
   "id": "1ae5d37f",
   "metadata": {},
   "source": [
    "# Lecture 13"
   ]
  },
  {
   "cell_type": "markdown",
   "id": "dff4835f",
   "metadata": {},
   "source": [
    "Pandas can process different kinds of datasets. "
   ]
  },
  {
   "cell_type": "code",
   "execution_count": 3,
   "id": "130ffe66",
   "metadata": {},
   "outputs": [
    {
     "name": "stdout",
     "output_type": "stream",
     "text": [
      "Requirement already satisfied: pandas in c:\\users\\ardra.ks\\appdata\\local\\programs\\python\\python310\\lib\\site-packages (2.1.1)\n",
      "Requirement already satisfied: numpy>=1.22.4 in c:\\users\\ardra.ks\\appdata\\local\\programs\\python\\python310\\lib\\site-packages (from pandas) (1.26.0)\n",
      "Requirement already satisfied: python-dateutil>=2.8.2 in c:\\users\\ardra.ks\\appdata\\roaming\\python\\python310\\site-packages (from pandas) (2.8.2)\n",
      "Requirement already satisfied: pytz>=2020.1 in c:\\users\\ardra.ks\\appdata\\local\\programs\\python\\python310\\lib\\site-packages (from pandas) (2023.3.post1)\n",
      "Requirement already satisfied: tzdata>=2022.1 in c:\\users\\ardra.ks\\appdata\\local\\programs\\python\\python310\\lib\\site-packages (from pandas) (2023.3)\n",
      "Requirement already satisfied: six>=1.5 in c:\\users\\ardra.ks\\appdata\\roaming\\python\\python310\\site-packages (from python-dateutil>=2.8.2->pandas) (1.16.0)\n",
      "Note: you may need to restart the kernel to use updated packages.\n"
     ]
    },
    {
     "name": "stderr",
     "output_type": "stream",
     "text": [
      "WARNING: You are using pip version 21.3.1; however, version 23.2.1 is available.\n",
      "You should consider upgrading via the 'c:\\Users\\Ardra.ks\\AppData\\Local\\Programs\\Python\\Python310\\python.exe -m pip install --upgrade pip' command.\n"
     ]
    }
   ],
   "source": [
    "pip install pandas"
   ]
  },
  {
   "cell_type": "code",
   "execution_count": 4,
   "id": "d096cff2",
   "metadata": {},
   "outputs": [],
   "source": [
    "import pandas as pd\n"
   ]
  },
  {
   "cell_type": "code",
   "execution_count": 10,
   "id": "921e5842",
   "metadata": {},
   "outputs": [
    {
     "data": {
      "text/html": [
       "<div>\n",
       "<style scoped>\n",
       "    .dataframe tbody tr th:only-of-type {\n",
       "        vertical-align: middle;\n",
       "    }\n",
       "\n",
       "    .dataframe tbody tr th {\n",
       "        vertical-align: top;\n",
       "    }\n",
       "\n",
       "    .dataframe thead th {\n",
       "        text-align: right;\n",
       "    }\n",
       "</style>\n",
       "<table border=\"1\" class=\"dataframe\">\n",
       "  <thead>\n",
       "    <tr style=\"text-align: right;\">\n",
       "      <th></th>\n",
       "      <th>District</th>\n",
       "      <th>No: of Positive Cases</th>\n",
       "      <th>No: of Recoveries</th>\n",
       "      <th>Deaths</th>\n",
       "      <th>Vaccinations</th>\n",
       "    </tr>\n",
       "  </thead>\n",
       "  <tbody>\n",
       "    <tr>\n",
       "      <th>9</th>\n",
       "      <td>Palakkad</td>\n",
       "      <td>76.709677</td>\n",
       "      <td>97.129032</td>\n",
       "      <td>0.064516</td>\n",
       "      <td>3768.483871</td>\n",
       "    </tr>\n",
       "    <tr>\n",
       "      <th>10</th>\n",
       "      <td>Pathanamthitta</td>\n",
       "      <td>120.838710</td>\n",
       "      <td>210.838710</td>\n",
       "      <td>0.483871</td>\n",
       "      <td>3067.903226</td>\n",
       "    </tr>\n",
       "    <tr>\n",
       "      <th>11</th>\n",
       "      <td>Thiruvanathapuram</td>\n",
       "      <td>173.709677</td>\n",
       "      <td>194.516129</td>\n",
       "      <td>1.666667</td>\n",
       "      <td>5948.967742</td>\n",
       "    </tr>\n",
       "    <tr>\n",
       "      <th>12</th>\n",
       "      <td>Thrissur</td>\n",
       "      <td>175.290323</td>\n",
       "      <td>240.419355</td>\n",
       "      <td>1.838710</td>\n",
       "      <td>4484.225806</td>\n",
       "    </tr>\n",
       "    <tr>\n",
       "      <th>13</th>\n",
       "      <td>Wayanad</td>\n",
       "      <td>52.225806</td>\n",
       "      <td>73.483871</td>\n",
       "      <td>0.290323</td>\n",
       "      <td>1332.322581</td>\n",
       "    </tr>\n",
       "  </tbody>\n",
       "</table>\n",
       "</div>"
      ],
      "text/plain": [
       "             District  No: of Positive Cases  No: of Recoveries    Deaths  \\\n",
       "9            Palakkad              76.709677          97.129032  0.064516   \n",
       "10     Pathanamthitta             120.838710         210.838710  0.483871   \n",
       "11  Thiruvanathapuram             173.709677         194.516129  1.666667   \n",
       "12           Thrissur             175.290323         240.419355  1.838710   \n",
       "13            Wayanad              52.225806          73.483871  0.290323   \n",
       "\n",
       "    Vaccinations  \n",
       "9    3768.483871  \n",
       "10   3067.903226  \n",
       "11   5948.967742  \n",
       "12   4484.225806  \n",
       "13   1332.322581  "
      ]
     },
     "execution_count": 10,
     "metadata": {},
     "output_type": "execute_result"
    }
   ],
   "source": [
    "df = pd.read_csv(r\"C:\\Users\\Ardra.ks\\Documents\\RESEARCH\\march 2021.csv\")\n",
    "df.head(10)\n",
    "df.tail(5)"
   ]
  },
  {
   "cell_type": "code",
   "execution_count": null,
   "id": "b6e79f04",
   "metadata": {},
   "outputs": [],
   "source": [
    "#using class try to store, read csv file and def head and tail function\n",
    "import csv\n",
    "class pandas_Name:\n",
    "    def __init__(self):\n",
    "        csvData = []\n",
    "\n"
   ]
  },
  {
   "cell_type": "markdown",
   "id": "c291665d",
   "metadata": {},
   "source": [
    "## Lecture 14"
   ]
  },
  {
   "cell_type": "markdown",
   "id": "5bf1fe82",
   "metadata": {},
   "source": [
    "we can package your own library and make others use of it. such kind of l;ibraries were pandas and numpy and others contributed for its development."
   ]
  },
  {
   "cell_type": "code",
   "execution_count": null,
   "id": "87ac5dca",
   "metadata": {},
   "outputs": [],
   "source": []
  }
 ],
 "metadata": {
  "kernelspec": {
   "display_name": "Python 3 (ipykernel)",
   "language": "python",
   "name": "python3"
  },
  "language_info": {
   "codemirror_mode": {
    "name": "ipython",
    "version": 3
   },
   "file_extension": ".py",
   "mimetype": "text/x-python",
   "name": "python",
   "nbconvert_exporter": "python",
   "pygments_lexer": "ipython3",
   "version": "3.10.0"
  }
 },
 "nbformat": 4,
 "nbformat_minor": 5
}
