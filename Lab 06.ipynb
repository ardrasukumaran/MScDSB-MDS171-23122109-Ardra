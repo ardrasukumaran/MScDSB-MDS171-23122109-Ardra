{
 "cells": [
  {
   "cell_type": "code",
   "execution_count": 30,
   "metadata": {},
   "outputs": [],
   "source": [
    "import random\n",
    "\n",
    "Item = [\"Rice\",\"Wheet\",\"Tomato\",\"Potato\",\"Milk\",\"Egg\",\"Butter\",\"chilli\",\"salt\",\"sugar\"]\n",
    "Qnty = [1,4,30,6,5,12,7,28,9,10]\n",
    "Price = [40,20,10,30,50,60,20,70,80,90]\n",
    "\n",
    "def selectRandom():\n",
    "    r1 = random.randint(0,9)\n",
    "    r2 = random.randint(0,9)\n",
    "    r3 = random.randint(0,9)\n",
    "    return Item[r1]+\",\" +str(Qnty[r2])+\",\"  +str(Price[r3])+\",\" +\"\\n\"\n",
    "\n",
    "\n",
    "with open(\"grocery.csv\",\"w+\") as csvfile:\n",
    "    for i in range(0,100,1):\n",
    "        csvfile.write(selectRandom())\n"
   ]
  },
  {
   "cell_type": "code",
   "execution_count": 1,
   "metadata": {},
   "outputs": [
    {
     "name": "stdout",
     "output_type": "stream",
     "text": [
      "\n",
      " Potato,1,60,\n",
      "price = 60\n",
      "\n",
      " Wheet,7,50,\n",
      "price = 350\n",
      "\n",
      " sugar,12,60,\n",
      "price = 720\n",
      "\n",
      " salt,30,70,\n",
      "price = 2100\n",
      "\n",
      " chilli,1,60,\n",
      "price = 60\n",
      "\n",
      " Tomato,7,80,\n",
      "price = 560\n",
      "\n",
      " salt,9,60,\n",
      "price = 540\n",
      "\n",
      " Egg,12,50,\n",
      "price = 600\n",
      "\n",
      " Egg,1,30,\n",
      "price = 30\n",
      "\n",
      " Milk,9,70,\n",
      "price = 630\n",
      "\n",
      " Wheet,6,50,\n",
      "price = 300\n",
      "\n",
      " Rice,9,80,\n",
      "price = 720\n",
      "\n",
      " Potato,28,80,\n",
      "price = 2240\n",
      "\n",
      " Milk,28,70,\n",
      "price = 1960\n",
      "\n",
      " Egg,28,50,\n",
      "price = 1400\n"
     ]
    }
   ],
   "source": [
    "#to read the csv file\n",
    "file = open(\"grocery.csv\",\"r+\")\n",
    "line = file.readlines() #to read it line by line\n",
    "\n",
    "for i in range (len(line)):\n",
    "   val = line[i].split(\",\")\n",
    "   for j in val:\n",
    "      amount = int(val[1])*int(val[2])\n",
    "   if i<6 or i>90:\n",
    "      print(\"\\n\",line[i]+\"price =\",amount)\n",
    "\n",
    "\n"
   ]
  },
  {
   "cell_type": "code",
   "execution_count": null,
   "metadata": {},
   "outputs": [],
   "source": []
  },
  {
   "cell_type": "code",
   "execution_count": null,
   "metadata": {},
   "outputs": [],
   "source": [
    "\n",
    "#Calculate the total cost for each unique item in the dataset.\n",
    "for i in range (len(line)):\n",
    "    if val[0] == Item[0]:\n",
    "        Rice_Price = \n"
   ]
  }
 ],
 "metadata": {
  "kernelspec": {
   "display_name": "Python 3",
   "language": "python",
   "name": "python3"
  },
  "language_info": {
   "codemirror_mode": {
    "name": "ipython",
    "version": 3
   },
   "file_extension": ".py",
   "mimetype": "text/x-python",
   "name": "python",
   "nbconvert_exporter": "python",
   "pygments_lexer": "ipython3",
   "version": "3.10.0"
  },
  "orig_nbformat": 4
 },
 "nbformat": 4,
 "nbformat_minor": 2
}
