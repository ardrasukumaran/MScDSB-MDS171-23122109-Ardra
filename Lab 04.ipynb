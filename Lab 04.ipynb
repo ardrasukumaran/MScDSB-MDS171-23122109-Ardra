{
 "cells": [
  {
   "cell_type": "code",
   "execution_count": 8,
   "metadata": {},
   "outputs": [
    {
     "name": "stdout",
     "output_type": "stream",
     "text": [
      "1\n"
     ]
    }
   ],
   "source": [
    "#1. To store the details of grocery and customers we define a function:\n",
    "def details(Name, Item, Qnty, Rate):\n",
    "    file = open(\"FarmersHarvest.txt\",\"w+\")\n",
    "    file.write(\"Name\\t:\"+Name)\n",
    "    file.write(\"\\nItem\\t:\\t\"+Item)\n",
    "    file.write(\"\\nQnty\\t:\\t\"+Qnty)\n",
    "    file.write(\"\\nRate\\t:\\t\"+Rate)\n",
    "    file.close()\n",
    "\n",
    "#Giving all the user inputs\n",
    "Name = input(\"Name:\")\n",
    "Item = input(\"item:\")\n",
    "Qnty = input(\"qnty:\")\n",
    "Rate = input(\"Rate\")\n",
    "\n",
    "#Calling the function\n",
    "details(Name, Item, Qnty, Rate)\n",
    "\n",
    "#To get the daily report\n",
    "#To get the total number of customers in a day\n",
    "\n",
    "customerCount = 0\n",
    "with open(\"FarmersHarvest.txt\") as file:\n",
    "    for line in file:\n",
    "        if \"Name\" in line:\n",
    "            customerCount = customerCount+1\n",
    "\n",
    "print(customerCount)\n",
    "\n",
    "\n"
   ]
  },
  {
   "cell_type": "code",
   "execution_count": null,
   "metadata": {},
   "outputs": [],
   "source": []
  }
 ],
 "metadata": {
  "kernelspec": {
   "display_name": "Python 3",
   "language": "python",
   "name": "python3"
  },
  "language_info": {
   "codemirror_mode": {
    "name": "ipython",
    "version": 3
   },
   "file_extension": ".py",
   "mimetype": "text/x-python",
   "name": "python",
   "nbconvert_exporter": "python",
   "pygments_lexer": "ipython3",
   "version": "3.10.0"
  },
  "orig_nbformat": 4
 },
 "nbformat": 4,
 "nbformat_minor": 2
}
